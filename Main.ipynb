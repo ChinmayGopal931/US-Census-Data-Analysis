{
  "nbformat": 4,
  "nbformat_minor": 0,
  "metadata": {
    "kernelspec": {
      "display_name": "Python [conda env:ai]",
      "language": "python",
      "name": "conda-env-ai-py"
    },
    "language_info": {
      "codemirror_mode": {
        "name": "ipython",
        "version": 3
      },
      "file_extension": ".py",
      "mimetype": "text/x-python",
      "name": "python",
      "nbconvert_exporter": "python",
      "pygments_lexer": "ipython3",
      "version": "3.5.4"
    },
    "nbpresent": {
      "slides": {
        "00185e5a-e023-4efa-9b74-1d4003fed039": {
          "id": "00185e5a-e023-4efa-9b74-1d4003fed039",
          "prev": "245581e9-468f-4d78-a748-0c3bdc5cb82a",
          "regions": {
            "691d980e-e884-402b-bedf-94142409e67a": {
              "attrs": {
                "height": 0.8,
                "width": 0.8,
                "x": 0.1,
                "y": 0.1
              },
              "content": {
                "cell": "479ad6be-6ef5-4a23-83fa-5a3438bed78c",
                "part": "whole"
              },
              "id": "691d980e-e884-402b-bedf-94142409e67a"
            }
          }
        },
        "04c02612-b7a3-4a6b-b46e-f0b64285f34f": {
          "id": "04c02612-b7a3-4a6b-b46e-f0b64285f34f",
          "prev": "cb224ddf-91c8-4058-a92c-589888536dce",
          "regions": {
            "15ef2157-6262-4d93-9646-01c5229cdc2e": {
              "attrs": {
                "height": 0.8,
                "width": 0.8,
                "x": 0.1,
                "y": 0.1
              },
              "content": {
                "cell": "479ad6be-6ef5-4a23-83fa-5a3438bed78c",
                "part": "whole"
              },
              "id": "15ef2157-6262-4d93-9646-01c5229cdc2e"
            }
          }
        },
        "0c825f9e-60ad-44b9-a3a9-32977b6dc07b": {
          "id": "0c825f9e-60ad-44b9-a3a9-32977b6dc07b",
          "prev": "3031125b-46a7-453f-8405-d51270217fed",
          "regions": {
            "5800e24d-5f1b-47f5-8cb8-5841666497ec": {
              "attrs": {
                "height": 0.8,
                "width": 0.8,
                "x": 0.1,
                "y": 0.1
              },
              "content": {
                "cell": "c2f7177c-9a56-46a7-8e51-53c1ccdac759",
                "part": "whole"
              },
              "id": "5800e24d-5f1b-47f5-8cb8-5841666497ec"
            }
          }
        },
        "0d1a4ca3-9779-41bc-a0b3-d212cb7d4a8c": {
          "id": "0d1a4ca3-9779-41bc-a0b3-d212cb7d4a8c",
          "prev": "e96ea25d-f12d-4df2-9229-29bbb6f89e57",
          "regions": {
            "73ea6e42-198b-45f7-90c0-76be78ca9873": {
              "attrs": {
                "height": 0.8,
                "width": 0.8,
                "x": 0.1,
                "y": 0.1
              },
              "content": {
                "cell": "05579e7a-be31-4942-a9a9-9f087cc284ff",
                "part": "whole"
              },
              "id": "73ea6e42-198b-45f7-90c0-76be78ca9873"
            }
          }
        },
        "0d8fa08d-7d0f-4378-8065-26382e5a86e2": {
          "id": "0d8fa08d-7d0f-4378-8065-26382e5a86e2",
          "prev": "2102ebf0-1bc1-493a-a8d2-e134b767f101",
          "regions": {
            "559c72a7-aebd-454e-aace-1ac4a1b01922": {
              "attrs": {
                "height": 0.8,
                "width": 0.8,
                "x": 0.1,
                "y": 0.1
              },
              "content": {
                "cell": "a3c4d54d-1c66-4511-9276-0a976adc27a3",
                "part": "whole"
              },
              "id": "559c72a7-aebd-454e-aace-1ac4a1b01922"
            }
          }
        },
        "0d98a2ee-ba72-4111-83eb-8ca87082100e": {
          "id": "0d98a2ee-ba72-4111-83eb-8ca87082100e",
          "prev": "a52fcace-21c6-4d27-9ee8-f87e06b1bf4b",
          "regions": {
            "f25816e9-e51b-4625-b61c-bea7755373a2": {
              "attrs": {
                "height": 0.8,
                "width": 0.8,
                "x": 0.1,
                "y": 0.1
              },
              "content": {
                "cell": "eb6724ef-65dc-4f74-b92c-3f9e540a7b35",
                "part": "whole"
              },
              "id": "f25816e9-e51b-4625-b61c-bea7755373a2"
            }
          }
        },
        "0eab16c6-3c1a-4f9c-a6d9-a1cf6220a9a2": {
          "id": "0eab16c6-3c1a-4f9c-a6d9-a1cf6220a9a2",
          "prev": "5caa41a3-a416-4b62-ad94-9efc601a0761",
          "regions": {
            "752c114b-e55a-40c2-b1d5-a646253c012a": {
              "attrs": {
                "height": 0.8,
                "width": 0.8,
                "x": 0.1,
                "y": 0.1
              },
              "content": {
                "cell": "a3c4d54d-1c66-4511-9276-0a976adc27a3",
                "part": "whole"
              },
              "id": "752c114b-e55a-40c2-b1d5-a646253c012a"
            }
          }
        },
        "0f0856fc-b72e-4a9e-9279-f0b70282084a": {
          "id": "0f0856fc-b72e-4a9e-9279-f0b70282084a",
          "prev": "4c3af69f-0dbf-4538-a217-4674c220e1ce",
          "regions": {
            "07c3f079-7bf9-4e7c-b073-93c94568b5f8": {
              "attrs": {
                "height": 0.8,
                "width": 0.8,
                "x": 0.1,
                "y": 0.1
              },
              "content": {
                "cell": "a3c4d54d-1c66-4511-9276-0a976adc27a3",
                "part": "whole"
              },
              "id": "07c3f079-7bf9-4e7c-b073-93c94568b5f8"
            }
          }
        },
        "127a45d8-ef23-4438-9cb9-c721e712e2ad": {
          "id": "127a45d8-ef23-4438-9cb9-c721e712e2ad",
          "prev": null,
          "regions": {
            "1014f9bc-a908-4bb1-b5f4-6d5fafbcacad": {
              "attrs": {
                "height": 0.8,
                "width": 0.8,
                "x": 0.1,
                "y": 0.1
              },
              "content": {
                "cell": "62d4851b-e85e-419e-901a-d5c03db59166",
                "part": "whole"
              },
              "id": "1014f9bc-a908-4bb1-b5f4-6d5fafbcacad"
            }
          }
        },
        "137bd8ba-62fa-4977-aa92-299716a1b575": {
          "id": "137bd8ba-62fa-4977-aa92-299716a1b575",
          "prev": "f89c8884-cb84-4930-a1c4-451008b047e0",
          "regions": {
            "c3c3c631-e394-4d86-8efd-f7e297da7c54": {
              "attrs": {
                "height": 0.8,
                "width": 0.8,
                "x": 0.1,
                "y": 0.1
              },
              "content": {
                "cell": "af0acd3e-f4a3-4da9-9772-6a6f896da772",
                "part": "whole"
              },
              "id": "c3c3c631-e394-4d86-8efd-f7e297da7c54"
            }
          }
        },
        "1b7fa3bc-7a7d-426c-ba1d-4fe4d2c63787": {
          "id": "1b7fa3bc-7a7d-426c-ba1d-4fe4d2c63787",
          "prev": "32b3f4bb-8a93-4047-871d-64dc33e51dc9",
          "regions": {
            "3c58bd34-7325-4848-ab56-a27006aa72eb": {
              "attrs": {
                "height": 0.8,
                "width": 0.8,
                "x": 0.1,
                "y": 0.1
              },
              "content": {
                "cell": "af0acd3e-f4a3-4da9-9772-6a6f896da772",
                "part": "whole"
              },
              "id": "3c58bd34-7325-4848-ab56-a27006aa72eb"
            }
          }
        },
        "1e649c44-6543-47ab-a724-d8c91a1eba0c": {
          "id": "1e649c44-6543-47ab-a724-d8c91a1eba0c",
          "prev": "2479aa16-61a7-448b-87fc-123ed194b826",
          "regions": {
            "5ff777a3-74e6-4424-8b17-f9c9bc680bbf": {
              "attrs": {
                "height": 0.8,
                "width": 0.8,
                "x": 0.1,
                "y": 0.1
              },
              "content": {
                "cell": "479ad6be-6ef5-4a23-83fa-5a3438bed78c",
                "part": "whole"
              },
              "id": "5ff777a3-74e6-4424-8b17-f9c9bc680bbf"
            }
          }
        },
        "206a856d-3055-461c-8169-ffee8f39c28e": {
          "id": "206a856d-3055-461c-8169-ffee8f39c28e",
          "prev": "8bbf13ba-d21a-4e20-b6fb-8248fbcb7d14",
          "regions": {
            "ebb2b7a1-4e2a-4a3a-a3c2-a7fcc8c01ab2": {
              "attrs": {
                "height": 0.8,
                "width": 0.8,
                "x": 0.1,
                "y": 0.1
              },
              "content": {
                "cell": "823d3663-8326-493a-a3fc-19b7114ef367",
                "part": "whole"
              },
              "id": "ebb2b7a1-4e2a-4a3a-a3c2-a7fcc8c01ab2"
            }
          }
        },
        "2102ebf0-1bc1-493a-a8d2-e134b767f101": {
          "id": "2102ebf0-1bc1-493a-a8d2-e134b767f101",
          "prev": "f2d04c15-4d2b-4c7e-992a-72c2b870c759",
          "regions": {
            "e75754ca-229a-4f43-8365-3ded5c65beb2": {
              "attrs": {
                "height": 0.8,
                "width": 0.8,
                "x": 0.1,
                "y": 0.1
              },
              "content": {
                "cell": "db543249-4452-45e1-a0fa-324296059f19",
                "part": "whole"
              },
              "id": "e75754ca-229a-4f43-8365-3ded5c65beb2"
            }
          }
        },
        "218a5d27-8c88-4475-9c19-04b6af5781ed": {
          "id": "218a5d27-8c88-4475-9c19-04b6af5781ed",
          "prev": "b6a3e0da-299e-4ed2-b91b-2acffd354cdf",
          "regions": {
            "3adede6c-7a8d-4918-8f7a-12114603f37a": {
              "attrs": {
                "height": 0.8,
                "width": 0.8,
                "x": 0.1,
                "y": 0.1
              },
              "content": {
                "cell": "c2f7177c-9a56-46a7-8e51-53c1ccdac759",
                "part": "whole"
              },
              "id": "3adede6c-7a8d-4918-8f7a-12114603f37a"
            }
          }
        },
        "2199474d-0f28-43f0-b05c-38e712655efe": {
          "id": "2199474d-0f28-43f0-b05c-38e712655efe",
          "prev": "bf0895a0-bc5b-466d-a091-07382c006dd6",
          "regions": {
            "d55f819b-e696-47f8-ae49-51e4fde22a3e": {
              "attrs": {
                "height": 0.8,
                "width": 0.8,
                "x": 0.1,
                "y": 0.1
              },
              "content": {
                "cell": "a3c4d54d-1c66-4511-9276-0a976adc27a3",
                "part": "whole"
              },
              "id": "d55f819b-e696-47f8-ae49-51e4fde22a3e"
            }
          }
        },
        "22126885-b04a-4cd1-b348-0dc9a5b353d1": {
          "id": "22126885-b04a-4cd1-b348-0dc9a5b353d1",
          "prev": "137bd8ba-62fa-4977-aa92-299716a1b575",
          "regions": {
            "401e60a1-ff77-4870-93f7-aa377a66983e": {
              "attrs": {
                "height": 0.8,
                "width": 0.8,
                "x": 0.1,
                "y": 0.1
              },
              "content": {
                "cell": "db543249-4452-45e1-a0fa-324296059f19",
                "part": "whole"
              },
              "id": "401e60a1-ff77-4870-93f7-aa377a66983e"
            }
          }
        },
        "22ac0a05-fa20-4071-9eeb-0cd7e8bc1495": {
          "id": "22ac0a05-fa20-4071-9eeb-0cd7e8bc1495",
          "prev": "54e37292-6b6a-42a2-b2d9-2526c00a35b6",
          "regions": {
            "f0328d95-4730-47f5-b7d7-332ab52f31df": {
              "attrs": {
                "height": 0.8,
                "width": 0.8,
                "x": 0.1,
                "y": 0.1
              },
              "content": {
                "cell": "d266ff00-54d6-47f7-a26c-eea6cd1e468f",
                "part": "whole"
              },
              "id": "f0328d95-4730-47f5-b7d7-332ab52f31df"
            }
          }
        },
        "245581e9-468f-4d78-a748-0c3bdc5cb82a": {
          "id": "245581e9-468f-4d78-a748-0c3bdc5cb82a",
          "prev": "963feba9-0d2a-4c66-85cc-96d2fc723e8e",
          "regions": {
            "e61eaae3-5014-424c-bd4e-df22507d29af": {
              "attrs": {
                "height": 0.8,
                "width": 0.8,
                "x": 0.1,
                "y": 0.1
              },
              "content": {
                "cell": "e1d4e5a9-715b-412f-b881-5306080566d0",
                "part": "whole"
              },
              "id": "e61eaae3-5014-424c-bd4e-df22507d29af"
            }
          }
        },
        "2479aa16-61a7-448b-87fc-123ed194b826": {
          "id": "2479aa16-61a7-448b-87fc-123ed194b826",
          "prev": "0d98a2ee-ba72-4111-83eb-8ca87082100e",
          "regions": {
            "06a7635a-7143-4bd9-888a-636071ed94b2": {
              "attrs": {
                "height": 0.8,
                "width": 0.8,
                "x": 0.1,
                "y": 0.1
              },
              "content": {
                "cell": "e1d4e5a9-715b-412f-b881-5306080566d0",
                "part": "whole"
              },
              "id": "06a7635a-7143-4bd9-888a-636071ed94b2"
            }
          }
        },
        "24ebeb55-bda2-46aa-b01d-2eb1e08ec4b9": {
          "id": "24ebeb55-bda2-46aa-b01d-2eb1e08ec4b9",
          "prev": "3836b696-9da4-4822-a1a4-1c8a7f016e93",
          "regions": {
            "1c9d0303-cc0c-4556-9456-55413d4b1a37": {
              "attrs": {
                "height": 0.8,
                "width": 0.8,
                "x": 0.1,
                "y": 0.1
              },
              "content": {
                "cell": "6e941245-3e15-4018-a947-9e66bc58c86e",
                "part": "whole"
              },
              "id": "1c9d0303-cc0c-4556-9456-55413d4b1a37"
            }
          }
        },
        "29c82185-c087-4da1-820d-e67d6f607544": {
          "id": "29c82185-c087-4da1-820d-e67d6f607544",
          "prev": "e1f94e70-f7b9-4d99-94c3-01f0f0a8251d",
          "regions": {
            "75915c00-90cb-4965-8dca-f1e7fc5c150d": {
              "attrs": {
                "height": 0.8,
                "width": 0.8,
                "x": 0.1,
                "y": 0.1
              },
              "content": {
                "cell": "d266ff00-54d6-47f7-a26c-eea6cd1e468f",
                "part": "whole"
              },
              "id": "75915c00-90cb-4965-8dca-f1e7fc5c150d"
            }
          }
        },
        "2d6a9841-621c-4219-9bd2-c010aac01f3a": {
          "id": "2d6a9841-621c-4219-9bd2-c010aac01f3a",
          "prev": "354d2e1c-833c-43c1-8518-84deefa9dd83",
          "regions": {
            "3366de71-d77a-4bf3-bc86-9da3afe09d58": {
              "attrs": {
                "height": 0.8,
                "width": 0.8,
                "x": 0.1,
                "y": 0.1
              },
              "content": {
                "cell": "af0acd3e-f4a3-4da9-9772-6a6f896da772",
                "part": "whole"
              },
              "id": "3366de71-d77a-4bf3-bc86-9da3afe09d58"
            }
          }
        },
        "2eb5b91d-2f89-4478-a871-9ebabfe8c755": {
          "id": "2eb5b91d-2f89-4478-a871-9ebabfe8c755",
          "prev": "3c39b8cb-b3ee-42a8-b58a-23f42dd1afb7",
          "regions": {
            "dbd82ff9-f97d-4b4e-9181-2757bd864899": {
              "attrs": {
                "height": 0.8,
                "width": 0.8,
                "x": 0.1,
                "y": 0.1
              },
              "content": {
                "cell": "fdd10c00-53ba-405d-8622-fbfeac17d3bb",
                "part": "whole"
              },
              "id": "dbd82ff9-f97d-4b4e-9181-2757bd864899"
            }
          }
        },
        "2f879b6f-c9ea-44d7-91e7-9baa9101dcde": {
          "id": "2f879b6f-c9ea-44d7-91e7-9baa9101dcde",
          "prev": "43ecdc28-ce1b-4c27-a143-3b0f6dfaa54f",
          "regions": {
            "7e27878d-50e3-4a78-ab08-81e37b035c95": {
              "attrs": {
                "height": 0.8,
                "width": 0.8,
                "x": 0.1,
                "y": 0.1
              },
              "content": {
                "cell": "ecdacfd7-456b-4b29-9c7d-aba29749c18f",
                "part": "whole"
              },
              "id": "7e27878d-50e3-4a78-ab08-81e37b035c95"
            }
          }
        },
        "3031125b-46a7-453f-8405-d51270217fed": {
          "id": "3031125b-46a7-453f-8405-d51270217fed",
          "prev": "41f1ac43-20aa-4be5-98e4-359d8294fa5a",
          "regions": {
            "487fc265-9057-4a2f-a5ae-5910bb803e6d": {
              "attrs": {
                "height": 0.8,
                "width": 0.8,
                "x": 0.1,
                "y": 0.1
              },
              "content": {
                "cell": "97a46770-dbe0-40ea-b454-b15bdec20f53",
                "part": "whole"
              },
              "id": "487fc265-9057-4a2f-a5ae-5910bb803e6d"
            }
          }
        },
        "32b3f4bb-8a93-4047-871d-64dc33e51dc9": {
          "id": "32b3f4bb-8a93-4047-871d-64dc33e51dc9",
          "prev": "cced8bf0-fff7-4aa8-a171-61b61bb5f70b",
          "regions": {
            "57d063fd-764a-4f6d-bfd7-1d91702b8e3a": {
              "attrs": {
                "height": 0.8,
                "width": 0.8,
                "x": 0.1,
                "y": 0.1
              },
              "content": {
                "cell": "ecdacfd7-456b-4b29-9c7d-aba29749c18f",
                "part": "whole"
              },
              "id": "57d063fd-764a-4f6d-bfd7-1d91702b8e3a"
            }
          }
        },
        "33eed3c0-aa11-4eeb-a2d8-e38080594622": {
          "id": "33eed3c0-aa11-4eeb-a2d8-e38080594622",
          "prev": "39b995da-8164-4191-97fa-126bbe9a9c13",
          "regions": {
            "fd63566a-8284-4ba0-ac22-e6e987ad37c4": {
              "attrs": {
                "height": 0.8,
                "width": 0.8,
                "x": 0.1,
                "y": 0.1
              },
              "content": {
                "cell": "479ad6be-6ef5-4a23-83fa-5a3438bed78c",
                "part": "whole"
              },
              "id": "fd63566a-8284-4ba0-ac22-e6e987ad37c4"
            }
          }
        },
        "351921d3-3e52-4de7-ac14-e2d065745a4c": {
          "id": "351921d3-3e52-4de7-ac14-e2d065745a4c",
          "prev": "73b93342-b297-40d2-83fa-0a5c3569b07b",
          "regions": {
            "6f34315e-6c22-4c7e-abb7-4090206c8fc7": {
              "attrs": {
                "height": 0.8,
                "width": 0.8,
                "x": 0.1,
                "y": 0.1
              },
              "content": {
                "cell": "05579e7a-be31-4942-a9a9-9f087cc284ff",
                "part": "whole"
              },
              "id": "6f34315e-6c22-4c7e-abb7-4090206c8fc7"
            }
          }
        },
        "354d2e1c-833c-43c1-8518-84deefa9dd83": {
          "id": "354d2e1c-833c-43c1-8518-84deefa9dd83",
          "prev": "644939af-71cf-4118-b725-186deee66293",
          "regions": {
            "b3d5c164-fdec-4ff4-a7bb-ed51d0b5a7b1": {
              "attrs": {
                "height": 0.8,
                "width": 0.8,
                "x": 0.1,
                "y": 0.1
              },
              "content": {
                "cell": "ecdacfd7-456b-4b29-9c7d-aba29749c18f",
                "part": "whole"
              },
              "id": "b3d5c164-fdec-4ff4-a7bb-ed51d0b5a7b1"
            }
          }
        },
        "37d0d82e-1379-4317-93cf-784cec2d5a7e": {
          "id": "37d0d82e-1379-4317-93cf-784cec2d5a7e",
          "prev": null,
          "regions": {
            "3a9f28d5-edac-42fb-a77d-ea8bf091c5f2": {
              "attrs": {
                "height": 0.8,
                "width": 0.8,
                "x": 0.1,
                "y": 0.1
              },
              "content": {
                "cell": "62d4851b-e85e-419e-901a-d5c03db59166",
                "part": "whole"
              },
              "id": "3a9f28d5-edac-42fb-a77d-ea8bf091c5f2"
            }
          }
        },
        "3836b696-9da4-4822-a1a4-1c8a7f016e93": {
          "id": "3836b696-9da4-4822-a1a4-1c8a7f016e93",
          "prev": "1e649c44-6543-47ab-a724-d8c91a1eba0c",
          "regions": {
            "5fbd00ec-19d3-492e-968b-da323b10e954": {
              "attrs": {
                "height": 0.8,
                "width": 0.8,
                "x": 0.1,
                "y": 0.1
              },
              "content": {
                "cell": "ba9ad1d9-659e-4fad-a0fd-0a23e7b56fc0",
                "part": "whole"
              },
              "id": "5fbd00ec-19d3-492e-968b-da323b10e954"
            }
          }
        },
        "39b995da-8164-4191-97fa-126bbe9a9c13": {
          "id": "39b995da-8164-4191-97fa-126bbe9a9c13",
          "prev": "efb38a77-d38d-4004-a8d2-e16791ef4448",
          "regions": {
            "abfb13e5-f301-4013-a152-3f165c0e1299": {
              "attrs": {
                "height": 0.8,
                "width": 0.8,
                "x": 0.1,
                "y": 0.1
              },
              "content": {
                "cell": "e1d4e5a9-715b-412f-b881-5306080566d0",
                "part": "whole"
              },
              "id": "abfb13e5-f301-4013-a152-3f165c0e1299"
            }
          }
        },
        "3c39b8cb-b3ee-42a8-b58a-23f42dd1afb7": {
          "id": "3c39b8cb-b3ee-42a8-b58a-23f42dd1afb7",
          "prev": "0d1a4ca3-9779-41bc-a0b3-d212cb7d4a8c",
          "regions": {
            "c5719391-2268-411a-a785-1ee02e70ca98": {
              "attrs": {
                "height": 0.8,
                "width": 0.8,
                "x": 0.1,
                "y": 0.1
              },
              "content": {
                "cell": "d266ff00-54d6-47f7-a26c-eea6cd1e468f",
                "part": "whole"
              },
              "id": "c5719391-2268-411a-a785-1ee02e70ca98"
            }
          }
        },
        "3d0dbf54-52e5-4743-a89f-c150039d1e1d": {
          "id": "3d0dbf54-52e5-4743-a89f-c150039d1e1d",
          "prev": "47f1d1e8-c00c-4cc6-b6db-b3b5dec491a7",
          "regions": {
            "49d32907-2026-4c47-949f-0c89f19c68eb": {
              "attrs": {
                "height": 0.8,
                "width": 0.8,
                "x": 0.1,
                "y": 0.1
              },
              "content": {
                "cell": "e1d4e5a9-715b-412f-b881-5306080566d0",
                "part": "whole"
              },
              "id": "49d32907-2026-4c47-949f-0c89f19c68eb"
            }
          }
        },
        "3f9d811f-b09e-4b43-92cd-cde475b9c555": {
          "id": "3f9d811f-b09e-4b43-92cd-cde475b9c555",
          "prev": "3d0dbf54-52e5-4743-a89f-c150039d1e1d",
          "regions": {
            "ec6e19e1-b3e7-4030-9522-b92032417481": {
              "attrs": {
                "height": 0.8,
                "width": 0.8,
                "x": 0.1,
                "y": 0.1
              },
              "content": {
                "cell": "479ad6be-6ef5-4a23-83fa-5a3438bed78c",
                "part": "whole"
              },
              "id": "ec6e19e1-b3e7-4030-9522-b92032417481"
            }
          }
        },
        "41f1ac43-20aa-4be5-98e4-359d8294fa5a": {
          "id": "41f1ac43-20aa-4be5-98e4-359d8294fa5a",
          "prev": "85cdb4b9-8c14-490e-861b-988132f067bb",
          "regions": {
            "b3aaf14c-3e4f-477d-8e7f-065d04e1be0a": {
              "attrs": {
                "height": 0.8,
                "width": 0.8,
                "x": 0.1,
                "y": 0.1
              },
              "content": {
                "cell": "6e941245-3e15-4018-a947-9e66bc58c86e",
                "part": "whole"
              },
              "id": "b3aaf14c-3e4f-477d-8e7f-065d04e1be0a"
            }
          }
        },
        "43ecdc28-ce1b-4c27-a143-3b0f6dfaa54f": {
          "id": "43ecdc28-ce1b-4c27-a143-3b0f6dfaa54f",
          "prev": "ad0964ff-fae9-4b44-a978-12dad9d949b5",
          "regions": {
            "95c45e90-6ed9-4882-985e-3fa7e31968f7": {
              "attrs": {
                "height": 0.8,
                "width": 0.8,
                "x": 0.1,
                "y": 0.1
              },
              "content": {
                "cell": "fdd10c00-53ba-405d-8622-fbfeac17d3bb",
                "part": "whole"
              },
              "id": "95c45e90-6ed9-4882-985e-3fa7e31968f7"
            }
          }
        },
        "47f1d1e8-c00c-4cc6-b6db-b3b5dec491a7": {
          "id": "47f1d1e8-c00c-4cc6-b6db-b3b5dec491a7",
          "prev": "70ea2b93-7bef-4144-b2ae-7d93079f890f",
          "regions": {
            "353852e7-a881-4c8b-a077-0e8f263f9cd1": {
              "attrs": {
                "height": 0.8,
                "width": 0.8,
                "x": 0.1,
                "y": 0.1
              },
              "content": {
                "cell": "eb6724ef-65dc-4f74-b92c-3f9e540a7b35",
                "part": "whole"
              },
              "id": "353852e7-a881-4c8b-a077-0e8f263f9cd1"
            }
          }
        },
        "4990bcde-5278-4c18-b9e3-d40b08618221": {
          "id": "4990bcde-5278-4c18-b9e3-d40b08618221",
          "prev": "d6815d16-3361-4aec-bdda-c20916e2958c",
          "regions": {
            "b6fc53ab-f89a-49d1-b0fd-44efbcaebdd8": {
              "attrs": {
                "height": 0.8,
                "width": 0.8,
                "x": 0.1,
                "y": 0.1
              },
              "content": {
                "cell": "2f809521-0a9c-4000-ba29-f6fcbb027dc9",
                "part": "whole"
              },
              "id": "b6fc53ab-f89a-49d1-b0fd-44efbcaebdd8"
            }
          }
        },
        "4c3af69f-0dbf-4538-a217-4674c220e1ce": {
          "id": "4c3af69f-0dbf-4538-a217-4674c220e1ce",
          "prev": "1b7fa3bc-7a7d-426c-ba1d-4fe4d2c63787",
          "regions": {
            "ed6a99e6-abe3-402c-9d1e-895c79ebfb51": {
              "attrs": {
                "height": 0.8,
                "width": 0.8,
                "x": 0.1,
                "y": 0.1
              },
              "content": {
                "cell": "db543249-4452-45e1-a0fa-324296059f19",
                "part": "whole"
              },
              "id": "ed6a99e6-abe3-402c-9d1e-895c79ebfb51"
            }
          }
        },
        "4e734229-1e33-429a-ab1e-9f25538f7799": {
          "id": "4e734229-1e33-429a-ab1e-9f25538f7799",
          "prev": "dac34957-e22e-418c-b575-a1ae52ebee9a",
          "regions": {
            "fedd46f4-a0e9-4859-8b03-23150d19893a": {
              "attrs": {
                "height": 0.8,
                "width": 0.8,
                "x": 0.1,
                "y": 0.1
              },
              "content": {
                "cell": "c2f7177c-9a56-46a7-8e51-53c1ccdac759",
                "part": "whole"
              },
              "id": "fedd46f4-a0e9-4859-8b03-23150d19893a"
            }
          }
        },
        "54e37292-6b6a-42a2-b2d9-2526c00a35b6": {
          "id": "54e37292-6b6a-42a2-b2d9-2526c00a35b6",
          "prev": "ccb21490-40cb-425d-9738-9a08f56265f6",
          "regions": {
            "6bff46e7-b141-437c-a413-524951f4e72f": {
              "attrs": {
                "height": 0.8,
                "width": 0.8,
                "x": 0.1,
                "y": 0.1
              },
              "content": {
                "cell": "05579e7a-be31-4942-a9a9-9f087cc284ff",
                "part": "whole"
              },
              "id": "6bff46e7-b141-437c-a413-524951f4e72f"
            }
          }
        },
        "5caa41a3-a416-4b62-ad94-9efc601a0761": {
          "id": "5caa41a3-a416-4b62-ad94-9efc601a0761",
          "prev": "f3fd7c80-e6c3-4fe1-8da4-d8c46dec60f5",
          "regions": {
            "8aff2690-5aab-4ef2-a038-15de457228e8": {
              "attrs": {
                "height": 0.8,
                "width": 0.8,
                "x": 0.1,
                "y": 0.1
              },
              "content": {
                "cell": "db543249-4452-45e1-a0fa-324296059f19",
                "part": "whole"
              },
              "id": "8aff2690-5aab-4ef2-a038-15de457228e8"
            }
          }
        },
        "644939af-71cf-4118-b725-186deee66293": {
          "id": "644939af-71cf-4118-b725-186deee66293",
          "prev": "22ac0a05-fa20-4071-9eeb-0cd7e8bc1495",
          "regions": {
            "2534f9df-66e9-4f28-ac38-2353f352a4b4": {
              "attrs": {
                "height": 0.8,
                "width": 0.8,
                "x": 0.1,
                "y": 0.1
              },
              "content": {
                "cell": "fdd10c00-53ba-405d-8622-fbfeac17d3bb",
                "part": "whole"
              },
              "id": "2534f9df-66e9-4f28-ac38-2353f352a4b4"
            }
          }
        },
        "6b00f37c-e15e-4979-b7b1-fb36dadd0d3e": {
          "id": "6b00f37c-e15e-4979-b7b1-fb36dadd0d3e",
          "prev": "0eab16c6-3c1a-4f9c-a6d9-a1cf6220a9a2",
          "regions": {
            "9065871c-7a40-4a6f-be71-04c61fb3d4ed": {
              "attrs": {
                "height": 0.8,
                "width": 0.8,
                "x": 0.1,
                "y": 0.1
              },
              "content": {
                "cell": "823d3663-8326-493a-a3fc-19b7114ef367",
                "part": "whole"
              },
              "id": "9065871c-7a40-4a6f-be71-04c61fb3d4ed"
            }
          }
        },
        "6c3de2fd-22fe-4b21-bd8f-c97a98e470a4": {
          "id": "6c3de2fd-22fe-4b21-bd8f-c97a98e470a4",
          "prev": "d7f8c565-3a5f-4d4f-b909-2d81839e6896",
          "regions": {
            "c9366dfe-5d4c-4496-a0f0-03a107250f99": {
              "attrs": {
                "height": 0.8,
                "width": 0.8,
                "x": 0.1,
                "y": 0.1
              },
              "content": {
                "cell": "d266ff00-54d6-47f7-a26c-eea6cd1e468f",
                "part": "whole"
              },
              "id": "c9366dfe-5d4c-4496-a0f0-03a107250f99"
            }
          }
        },
        "70ea2b93-7bef-4144-b2ae-7d93079f890f": {
          "id": "70ea2b93-7bef-4144-b2ae-7d93079f890f",
          "prev": "127a45d8-ef23-4438-9cb9-c721e712e2ad",
          "regions": {
            "3ea4c7c2-650f-41b5-80af-81d976f323e4": {
              "attrs": {
                "height": 0.8,
                "width": 0.8,
                "x": 0.1,
                "y": 0.1
              },
              "content": {
                "cell": "41d6f28b-3c7e-4d68-a8cb-4e063ec6fe27",
                "part": "whole"
              },
              "id": "3ea4c7c2-650f-41b5-80af-81d976f323e4"
            }
          }
        },
        "73b93342-b297-40d2-83fa-0a5c3569b07b": {
          "id": "73b93342-b297-40d2-83fa-0a5c3569b07b",
          "prev": "218a5d27-8c88-4475-9c19-04b6af5781ed",
          "regions": {
            "137602b1-d910-48a6-8214-eeb299661772": {
              "attrs": {
                "height": 0.8,
                "width": 0.8,
                "x": 0.1,
                "y": 0.1
              },
              "content": {
                "cell": "2f809521-0a9c-4000-ba29-f6fcbb027dc9",
                "part": "whole"
              },
              "id": "137602b1-d910-48a6-8214-eeb299661772"
            }
          }
        },
        "744b667b-61a0-4bb2-b78e-9de2788bc7e8": {
          "id": "744b667b-61a0-4bb2-b78e-9de2788bc7e8",
          "prev": "3f9d811f-b09e-4b43-92cd-cde475b9c555",
          "regions": {
            "a14c6f68-caf3-4f49-aee2-90d1761f0d0d": {
              "attrs": {
                "height": 0.8,
                "width": 0.8,
                "x": 0.1,
                "y": 0.1
              },
              "content": {
                "cell": "ba9ad1d9-659e-4fad-a0fd-0a23e7b56fc0",
                "part": "whole"
              },
              "id": "a14c6f68-caf3-4f49-aee2-90d1761f0d0d"
            }
          }
        },
        "834f16ec-1755-40aa-9405-fa356485e8be": {
          "id": "834f16ec-1755-40aa-9405-fa356485e8be",
          "prev": "33eed3c0-aa11-4eeb-a2d8-e38080594622",
          "regions": {
            "3051de16-0381-431c-86e4-d29c57fb325d": {
              "attrs": {
                "height": 0.8,
                "width": 0.8,
                "x": 0.1,
                "y": 0.1
              },
              "content": {
                "cell": "ba9ad1d9-659e-4fad-a0fd-0a23e7b56fc0",
                "part": "whole"
              },
              "id": "3051de16-0381-431c-86e4-d29c57fb325d"
            }
          }
        },
        "84e5d013-5ab1-4159-aa5f-fc7f55caab96": {
          "id": "84e5d013-5ab1-4159-aa5f-fc7f55caab96",
          "prev": "29c82185-c087-4da1-820d-e67d6f607544",
          "regions": {
            "3f22d886-6e54-4fe9-8daf-18796f426768": {
              "attrs": {
                "height": 0.8,
                "width": 0.8,
                "x": 0.1,
                "y": 0.1
              },
              "content": {
                "cell": "fdd10c00-53ba-405d-8622-fbfeac17d3bb",
                "part": "whole"
              },
              "id": "3f22d886-6e54-4fe9-8daf-18796f426768"
            }
          }
        },
        "85cdb4b9-8c14-490e-861b-988132f067bb": {
          "id": "85cdb4b9-8c14-490e-861b-988132f067bb",
          "prev": "04c02612-b7a3-4a6b-b46e-f0b64285f34f",
          "regions": {
            "27457dde-4bf2-44d0-ba73-9162622e3bdc": {
              "attrs": {
                "height": 0.8,
                "width": 0.8,
                "x": 0.1,
                "y": 0.1
              },
              "content": {
                "cell": "ba9ad1d9-659e-4fad-a0fd-0a23e7b56fc0",
                "part": "whole"
              },
              "id": "27457dde-4bf2-44d0-ba73-9162622e3bdc"
            }
          }
        },
        "888db3f7-5824-4459-a8d6-36927be78fce": {
          "id": "888db3f7-5824-4459-a8d6-36927be78fce",
          "prev": "aa64bc2c-0a71-4a60-894d-9fe54691404b",
          "regions": {
            "d59a5b99-359c-4ab6-9557-641371d38620": {
              "attrs": {
                "height": 0.8,
                "width": 0.8,
                "x": 0.1,
                "y": 0.1
              },
              "content": {
                "cell": "97a46770-dbe0-40ea-b454-b15bdec20f53",
                "part": "whole"
              },
              "id": "d59a5b99-359c-4ab6-9557-641371d38620"
            }
          }
        },
        "8affd1e6-70b8-4959-8bcc-9fa3d98ac946": {
          "id": "8affd1e6-70b8-4959-8bcc-9fa3d98ac946",
          "prev": "da2956f8-18a5-4bfa-9591-5cf3e39e7248",
          "regions": {
            "84eb25c1-1e33-4e39-9b2d-8f8c9e13ec7c": {
              "attrs": {
                "height": 0.8,
                "width": 0.8,
                "x": 0.1,
                "y": 0.1
              },
              "content": {
                "cell": "6e941245-3e15-4018-a947-9e66bc58c86e",
                "part": "whole"
              },
              "id": "84eb25c1-1e33-4e39-9b2d-8f8c9e13ec7c"
            }
          }
        },
        "8bbf13ba-d21a-4e20-b6fb-8248fbcb7d14": {
          "id": "8bbf13ba-d21a-4e20-b6fb-8248fbcb7d14",
          "prev": "22126885-b04a-4cd1-b348-0dc9a5b353d1",
          "regions": {
            "2efe0c9d-7786-4107-8ff4-1bf1246eb94f": {
              "attrs": {
                "height": 0.8,
                "width": 0.8,
                "x": 0.1,
                "y": 0.1
              },
              "content": {
                "cell": "a3c4d54d-1c66-4511-9276-0a976adc27a3",
                "part": "whole"
              },
              "id": "2efe0c9d-7786-4107-8ff4-1bf1246eb94f"
            }
          }
        },
        "963feba9-0d2a-4c66-85cc-96d2fc723e8e": {
          "id": "963feba9-0d2a-4c66-85cc-96d2fc723e8e",
          "prev": null,
          "regions": {
            "03648aaa-3268-4c18-806d-e999756ac4cf": {
              "attrs": {
                "height": 0.8,
                "width": 0.8,
                "x": 0.1,
                "y": 0.1
              },
              "content": {
                "cell": "eb6724ef-65dc-4f74-b92c-3f9e540a7b35",
                "part": "whole"
              },
              "id": "03648aaa-3268-4c18-806d-e999756ac4cf"
            }
          }
        },
        "a52fcace-21c6-4d27-9ee8-f87e06b1bf4b": {
          "id": "a52fcace-21c6-4d27-9ee8-f87e06b1bf4b",
          "prev": "f282fd14-a561-4ad9-958b-ceeb296e93d6",
          "regions": {
            "2c8df343-f44b-4b1f-9bed-f9374dab1541": {
              "attrs": {
                "height": 0.8,
                "width": 0.8,
                "x": 0.1,
                "y": 0.1
              },
              "content": {
                "cell": "41d6f28b-3c7e-4d68-a8cb-4e063ec6fe27",
                "part": "whole"
              },
              "id": "2c8df343-f44b-4b1f-9bed-f9374dab1541"
            }
          }
        },
        "aa64bc2c-0a71-4a60-894d-9fe54691404b": {
          "id": "aa64bc2c-0a71-4a60-894d-9fe54691404b",
          "prev": "744b667b-61a0-4bb2-b78e-9de2788bc7e8",
          "regions": {
            "58be5b97-dc19-4de8-add9-c05fcca8a613": {
              "attrs": {
                "height": 0.8,
                "width": 0.8,
                "x": 0.1,
                "y": 0.1
              },
              "content": {
                "cell": "6e941245-3e15-4018-a947-9e66bc58c86e",
                "part": "whole"
              },
              "id": "58be5b97-dc19-4de8-add9-c05fcca8a613"
            }
          }
        },
        "ad0964ff-fae9-4b44-a978-12dad9d949b5": {
          "id": "ad0964ff-fae9-4b44-a978-12dad9d949b5",
          "prev": "351921d3-3e52-4de7-ac14-e2d065745a4c",
          "regions": {
            "2852b579-93ae-4565-8add-20bc3ff9dcef": {
              "attrs": {
                "height": 0.8,
                "width": 0.8,
                "x": 0.1,
                "y": 0.1
              },
              "content": {
                "cell": "d266ff00-54d6-47f7-a26c-eea6cd1e468f",
                "part": "whole"
              },
              "id": "2852b579-93ae-4565-8add-20bc3ff9dcef"
            }
          }
        },
        "b6a3e0da-299e-4ed2-b91b-2acffd354cdf": {
          "id": "b6a3e0da-299e-4ed2-b91b-2acffd354cdf",
          "prev": "24ebeb55-bda2-46aa-b01d-2eb1e08ec4b9",
          "regions": {
            "cec135fa-0989-4cae-9d41-1af9445b29a8": {
              "attrs": {
                "height": 0.8,
                "width": 0.8,
                "x": 0.1,
                "y": 0.1
              },
              "content": {
                "cell": "97a46770-dbe0-40ea-b454-b15bdec20f53",
                "part": "whole"
              },
              "id": "cec135fa-0989-4cae-9d41-1af9445b29a8"
            }
          }
        },
        "be687a44-3db4-4be7-9f39-71fb43cc9fbc": {
          "id": "be687a44-3db4-4be7-9f39-71fb43cc9fbc",
          "prev": "8affd1e6-70b8-4959-8bcc-9fa3d98ac946",
          "regions": {
            "87ea0664-8af3-4c54-aa8f-0b9f0c2bd4e8": {
              "attrs": {
                "height": 0.8,
                "width": 0.8,
                "x": 0.1,
                "y": 0.1
              },
              "content": {
                "cell": "97a46770-dbe0-40ea-b454-b15bdec20f53",
                "part": "whole"
              },
              "id": "87ea0664-8af3-4c54-aa8f-0b9f0c2bd4e8"
            }
          }
        },
        "bf0895a0-bc5b-466d-a091-07382c006dd6": {
          "id": "bf0895a0-bc5b-466d-a091-07382c006dd6",
          "prev": "2d6a9841-621c-4219-9bd2-c010aac01f3a",
          "regions": {
            "7ebcb078-8ca9-4728-93a6-c7178465168f": {
              "attrs": {
                "height": 0.8,
                "width": 0.8,
                "x": 0.1,
                "y": 0.1
              },
              "content": {
                "cell": "db543249-4452-45e1-a0fa-324296059f19",
                "part": "whole"
              },
              "id": "7ebcb078-8ca9-4728-93a6-c7178465168f"
            }
          }
        },
        "c0cc38e5-c3b6-4f92-a3b0-e31ec2159b50": {
          "id": "c0cc38e5-c3b6-4f92-a3b0-e31ec2159b50",
          "prev": "834f16ec-1755-40aa-9405-fa356485e8be",
          "regions": {
            "0a944982-056c-4c22-b01c-3378924f27bc": {
              "attrs": {
                "height": 0.8,
                "width": 0.8,
                "x": 0.1,
                "y": 0.1
              },
              "content": {
                "cell": "6e941245-3e15-4018-a947-9e66bc58c86e",
                "part": "whole"
              },
              "id": "0a944982-056c-4c22-b01c-3378924f27bc"
            }
          }
        },
        "cb224ddf-91c8-4058-a92c-589888536dce": {
          "id": "cb224ddf-91c8-4058-a92c-589888536dce",
          "prev": "f8f60d11-8c40-4a82-ad2d-4ddbc346064a",
          "regions": {
            "5db7b356-55ac-4638-92ee-9aee8eb79745": {
              "attrs": {
                "height": 0.8,
                "width": 0.8,
                "x": 0.1,
                "y": 0.1
              },
              "content": {
                "cell": "e1d4e5a9-715b-412f-b881-5306080566d0",
                "part": "whole"
              },
              "id": "5db7b356-55ac-4638-92ee-9aee8eb79745"
            }
          }
        },
        "cc146373-3ece-4360-9e15-95a78c2a6228": {
          "id": "cc146373-3ece-4360-9e15-95a78c2a6228",
          "prev": "206a856d-3055-461c-8169-ffee8f39c28e",
          "regions": {
            "18bd17df-8f7c-40a0-b547-d396bb43f9d8": {
              "attrs": {
                "height": 0.8,
                "width": 0.8,
                "x": 0.1,
                "y": 0.1
              },
              "content": {
                "cell": "7e847244-7b42-490f-8945-46e234a3af75",
                "part": "whole"
              },
              "id": "18bd17df-8f7c-40a0-b547-d396bb43f9d8"
            }
          }
        },
        "ccb21490-40cb-425d-9738-9a08f56265f6": {
          "id": "ccb21490-40cb-425d-9738-9a08f56265f6",
          "prev": "4e734229-1e33-429a-ab1e-9f25538f7799",
          "regions": {
            "9c0b0fc7-6e91-47b9-aafd-3b68186f9b1c": {
              "attrs": {
                "height": 0.8,
                "width": 0.8,
                "x": 0.1,
                "y": 0.1
              },
              "content": {
                "cell": "2f809521-0a9c-4000-ba29-f6fcbb027dc9",
                "part": "whole"
              },
              "id": "9c0b0fc7-6e91-47b9-aafd-3b68186f9b1c"
            }
          }
        },
        "cced8bf0-fff7-4aa8-a171-61b61bb5f70b": {
          "id": "cced8bf0-fff7-4aa8-a171-61b61bb5f70b",
          "prev": "6c3de2fd-22fe-4b21-bd8f-c97a98e470a4",
          "regions": {
            "aa9d94b0-aa3d-4b28-b9af-cd6566af8ce6": {
              "attrs": {
                "height": 0.8,
                "width": 0.8,
                "x": 0.1,
                "y": 0.1
              },
              "content": {
                "cell": "fdd10c00-53ba-405d-8622-fbfeac17d3bb",
                "part": "whole"
              },
              "id": "aa9d94b0-aa3d-4b28-b9af-cd6566af8ce6"
            }
          }
        },
        "d4a64d2e-3fa3-4742-b817-999ee662f9a2": {
          "id": "d4a64d2e-3fa3-4742-b817-999ee662f9a2",
          "prev": "0d8fa08d-7d0f-4378-8065-26382e5a86e2",
          "regions": {
            "6f4633db-bd8c-4ede-890e-d8c82fef3a22": {
              "attrs": {
                "height": 0.8,
                "width": 0.8,
                "x": 0.1,
                "y": 0.1
              },
              "content": {
                "cell": "823d3663-8326-493a-a3fc-19b7114ef367",
                "part": "whole"
              },
              "id": "6f4633db-bd8c-4ede-890e-d8c82fef3a22"
            }
          }
        },
        "d55e9216-ec74-4b8a-8c86-626de0a99a3f": {
          "id": "d55e9216-ec74-4b8a-8c86-626de0a99a3f",
          "prev": "0f0856fc-b72e-4a9e-9279-f0b70282084a",
          "regions": {
            "1f11ff0a-2933-4966-b23b-4471b9ba3fe1": {
              "attrs": {
                "height": 0.8,
                "width": 0.8,
                "x": 0.1,
                "y": 0.1
              },
              "content": {
                "cell": "823d3663-8326-493a-a3fc-19b7114ef367",
                "part": "whole"
              },
              "id": "1f11ff0a-2933-4966-b23b-4471b9ba3fe1"
            }
          }
        },
        "d6815d16-3361-4aec-bdda-c20916e2958c": {
          "id": "d6815d16-3361-4aec-bdda-c20916e2958c",
          "prev": "888db3f7-5824-4459-a8d6-36927be78fce",
          "regions": {
            "0276812b-043d-4477-8e3b-c8ab28a48dfe": {
              "attrs": {
                "height": 0.8,
                "width": 0.8,
                "x": 0.1,
                "y": 0.1
              },
              "content": {
                "cell": "c2f7177c-9a56-46a7-8e51-53c1ccdac759",
                "part": "whole"
              },
              "id": "0276812b-043d-4477-8e3b-c8ab28a48dfe"
            }
          }
        },
        "d7f8c565-3a5f-4d4f-b909-2d81839e6896": {
          "id": "d7f8c565-3a5f-4d4f-b909-2d81839e6896",
          "prev": "f06bb312-3e06-4eab-9a4a-a1f10cb67455",
          "regions": {
            "b9a2cb44-4072-49c9-9f76-ae04a82aaeb3": {
              "attrs": {
                "height": 0.8,
                "width": 0.8,
                "x": 0.1,
                "y": 0.1
              },
              "content": {
                "cell": "05579e7a-be31-4942-a9a9-9f087cc284ff",
                "part": "whole"
              },
              "id": "b9a2cb44-4072-49c9-9f76-ae04a82aaeb3"
            }
          }
        },
        "d8a1cce1-10b5-4725-86a4-045d061273ee": {
          "id": "d8a1cce1-10b5-4725-86a4-045d061273ee",
          "prev": "6b00f37c-e15e-4979-b7b1-fb36dadd0d3e",
          "regions": {
            "c24a5fc8-2a90-4c13-91d7-223ad92cd794": {
              "attrs": {
                "height": 0.8,
                "width": 0.8,
                "x": 0.1,
                "y": 0.1
              },
              "content": {
                "cell": "7e847244-7b42-490f-8945-46e234a3af75",
                "part": "whole"
              },
              "id": "c24a5fc8-2a90-4c13-91d7-223ad92cd794"
            }
          }
        },
        "da2956f8-18a5-4bfa-9591-5cf3e39e7248": {
          "id": "da2956f8-18a5-4bfa-9591-5cf3e39e7248",
          "prev": "00185e5a-e023-4efa-9b74-1d4003fed039",
          "regions": {
            "f7d068d1-64bb-47e5-a163-ba870a8a8e68": {
              "attrs": {
                "height": 0.8,
                "width": 0.8,
                "x": 0.1,
                "y": 0.1
              },
              "content": {
                "cell": "ba9ad1d9-659e-4fad-a0fd-0a23e7b56fc0",
                "part": "whole"
              },
              "id": "f7d068d1-64bb-47e5-a163-ba870a8a8e68"
            }
          }
        },
        "da615caf-6de2-4243-81c2-6b6ee2b24524": {
          "id": "da615caf-6de2-4243-81c2-6b6ee2b24524",
          "prev": "d4a64d2e-3fa3-4742-b817-999ee662f9a2",
          "regions": {
            "caac7351-001b-4708-90db-2a152c2fd4f5": {
              "attrs": {
                "height": 0.8,
                "width": 0.8,
                "x": 0.1,
                "y": 0.1
              },
              "content": {
                "cell": "7e847244-7b42-490f-8945-46e234a3af75",
                "part": "whole"
              },
              "id": "caac7351-001b-4708-90db-2a152c2fd4f5"
            }
          }
        },
        "dac34957-e22e-418c-b575-a1ae52ebee9a": {
          "id": "dac34957-e22e-418c-b575-a1ae52ebee9a",
          "prev": "c0cc38e5-c3b6-4f92-a3b0-e31ec2159b50",
          "regions": {
            "cb1a886d-2883-420c-b013-d8e150fb56b7": {
              "attrs": {
                "height": 0.8,
                "width": 0.8,
                "x": 0.1,
                "y": 0.1
              },
              "content": {
                "cell": "97a46770-dbe0-40ea-b454-b15bdec20f53",
                "part": "whole"
              },
              "id": "cb1a886d-2883-420c-b013-d8e150fb56b7"
            }
          }
        },
        "e1f94e70-f7b9-4d99-94c3-01f0f0a8251d": {
          "id": "e1f94e70-f7b9-4d99-94c3-01f0f0a8251d",
          "prev": "4990bcde-5278-4c18-b9e3-d40b08618221",
          "regions": {
            "7f0152f1-c574-4a02-8d63-4018e2bb6524": {
              "attrs": {
                "height": 0.8,
                "width": 0.8,
                "x": 0.1,
                "y": 0.1
              },
              "content": {
                "cell": "05579e7a-be31-4942-a9a9-9f087cc284ff",
                "part": "whole"
              },
              "id": "7f0152f1-c574-4a02-8d63-4018e2bb6524"
            }
          }
        },
        "e40b3af6-c94f-4511-a3e4-14eafa9346b2": {
          "id": "e40b3af6-c94f-4511-a3e4-14eafa9346b2",
          "prev": "ec782cf2-d511-49a3-97ab-70a945e504fc",
          "regions": {
            "3c64fe83-8170-4bf8-9e53-e7ab514a6b9e": {
              "attrs": {
                "height": 0.8,
                "width": 0.8,
                "x": 0.1,
                "y": 0.1
              },
              "content": {
                "cell": "41d6f28b-3c7e-4d68-a8cb-4e063ec6fe27",
                "part": "whole"
              },
              "id": "3c64fe83-8170-4bf8-9e53-e7ab514a6b9e"
            }
          }
        },
        "e69d870b-7f80-4eb6-92f4-f349f582b63d": {
          "id": "e69d870b-7f80-4eb6-92f4-f349f582b63d",
          "prev": "37d0d82e-1379-4317-93cf-784cec2d5a7e",
          "regions": {
            "9dd87015-cc5f-4576-a2a9-983133aa77a8": {
              "attrs": {
                "height": 0.8,
                "width": 0.8,
                "x": 0.1,
                "y": 0.1
              },
              "content": {
                "cell": "41d6f28b-3c7e-4d68-a8cb-4e063ec6fe27",
                "part": "whole"
              },
              "id": "9dd87015-cc5f-4576-a2a9-983133aa77a8"
            }
          }
        },
        "e9111b59-1bbf-4818-9be0-ed5ef8fa6fc6": {
          "id": "e9111b59-1bbf-4818-9be0-ed5ef8fa6fc6",
          "prev": "2eb5b91d-2f89-4478-a871-9ebabfe8c755",
          "regions": {
            "542e088b-2244-4d49-855d-677f84e3557e": {
              "attrs": {
                "height": 0.8,
                "width": 0.8,
                "x": 0.1,
                "y": 0.1
              },
              "content": {
                "cell": "ecdacfd7-456b-4b29-9c7d-aba29749c18f",
                "part": "whole"
              },
              "id": "542e088b-2244-4d49-855d-677f84e3557e"
            }
          }
        },
        "e96ea25d-f12d-4df2-9229-29bbb6f89e57": {
          "id": "e96ea25d-f12d-4df2-9229-29bbb6f89e57",
          "prev": "f502cb85-a418-4e67-bc76-61d1d24781e6",
          "regions": {
            "299a1007-3dd4-4210-8be7-09571a22ef91": {
              "attrs": {
                "height": 0.8,
                "width": 0.8,
                "x": 0.1,
                "y": 0.1
              },
              "content": {
                "cell": "2f809521-0a9c-4000-ba29-f6fcbb027dc9",
                "part": "whole"
              },
              "id": "299a1007-3dd4-4210-8be7-09571a22ef91"
            }
          }
        },
        "ec782cf2-d511-49a3-97ab-70a945e504fc": {
          "id": "ec782cf2-d511-49a3-97ab-70a945e504fc",
          "prev": null,
          "regions": {
            "09f08875-f31a-4f2d-b572-3e27a524e506": {
              "attrs": {
                "height": 0.8,
                "width": 0.8,
                "x": 0.1,
                "y": 0.1
              },
              "content": {
                "cell": "62d4851b-e85e-419e-901a-d5c03db59166",
                "part": "whole"
              },
              "id": "09f08875-f31a-4f2d-b572-3e27a524e506"
            }
          }
        },
        "efb38a77-d38d-4004-a8d2-e16791ef4448": {
          "id": "efb38a77-d38d-4004-a8d2-e16791ef4448",
          "prev": "e69d870b-7f80-4eb6-92f4-f349f582b63d",
          "regions": {
            "13305e20-9e90-4cde-bc61-7012b221d6df": {
              "attrs": {
                "height": 0.8,
                "width": 0.8,
                "x": 0.1,
                "y": 0.1
              },
              "content": {
                "cell": "eb6724ef-65dc-4f74-b92c-3f9e540a7b35",
                "part": "whole"
              },
              "id": "13305e20-9e90-4cde-bc61-7012b221d6df"
            }
          }
        },
        "f06bb312-3e06-4eab-9a4a-a1f10cb67455": {
          "id": "f06bb312-3e06-4eab-9a4a-a1f10cb67455",
          "prev": "0c825f9e-60ad-44b9-a3a9-32977b6dc07b",
          "regions": {
            "5d920271-fc5c-43d3-a65d-57428ad528d7": {
              "attrs": {
                "height": 0.8,
                "width": 0.8,
                "x": 0.1,
                "y": 0.1
              },
              "content": {
                "cell": "2f809521-0a9c-4000-ba29-f6fcbb027dc9",
                "part": "whole"
              },
              "id": "5d920271-fc5c-43d3-a65d-57428ad528d7"
            }
          }
        },
        "f282fd14-a561-4ad9-958b-ceeb296e93d6": {
          "id": "f282fd14-a561-4ad9-958b-ceeb296e93d6",
          "prev": null,
          "regions": {
            "11c6f549-2ac4-4211-a352-a4c9013a5723": {
              "attrs": {
                "height": 0.8,
                "width": 0.8,
                "x": 0.1,
                "y": 0.1
              },
              "content": {
                "cell": "62d4851b-e85e-419e-901a-d5c03db59166",
                "part": "whole"
              },
              "id": "11c6f549-2ac4-4211-a352-a4c9013a5723"
            }
          }
        },
        "f2d04c15-4d2b-4c7e-992a-72c2b870c759": {
          "id": "f2d04c15-4d2b-4c7e-992a-72c2b870c759",
          "prev": "2f879b6f-c9ea-44d7-91e7-9baa9101dcde",
          "regions": {
            "93c73624-fd8e-434c-a0b5-a191e22a1a28": {
              "attrs": {
                "height": 0.8,
                "width": 0.8,
                "x": 0.1,
                "y": 0.1
              },
              "content": {
                "cell": "af0acd3e-f4a3-4da9-9772-6a6f896da772",
                "part": "whole"
              },
              "id": "93c73624-fd8e-434c-a0b5-a191e22a1a28"
            }
          }
        },
        "f37968a2-f924-46ba-b214-57fef6c8e053": {
          "id": "f37968a2-f924-46ba-b214-57fef6c8e053",
          "prev": "2199474d-0f28-43f0-b05c-38e712655efe",
          "regions": {
            "eb7c9691-162f-4bc9-b740-a880290d5480": {
              "attrs": {
                "height": 0.8,
                "width": 0.8,
                "x": 0.1,
                "y": 0.1
              },
              "content": {
                "cell": "823d3663-8326-493a-a3fc-19b7114ef367",
                "part": "whole"
              },
              "id": "eb7c9691-162f-4bc9-b740-a880290d5480"
            }
          }
        },
        "f3fd7c80-e6c3-4fe1-8da4-d8c46dec60f5": {
          "id": "f3fd7c80-e6c3-4fe1-8da4-d8c46dec60f5",
          "prev": "e9111b59-1bbf-4818-9be0-ed5ef8fa6fc6",
          "regions": {
            "c8f21071-20c8-4180-9de4-b94971c0e22a": {
              "attrs": {
                "height": 0.8,
                "width": 0.8,
                "x": 0.1,
                "y": 0.1
              },
              "content": {
                "cell": "af0acd3e-f4a3-4da9-9772-6a6f896da772",
                "part": "whole"
              },
              "id": "c8f21071-20c8-4180-9de4-b94971c0e22a"
            }
          }
        },
        "f502cb85-a418-4e67-bc76-61d1d24781e6": {
          "id": "f502cb85-a418-4e67-bc76-61d1d24781e6",
          "prev": "be687a44-3db4-4be7-9f39-71fb43cc9fbc",
          "regions": {
            "f28295e1-c68c-4ef1-ba49-1e9122a40b0f": {
              "attrs": {
                "height": 0.8,
                "width": 0.8,
                "x": 0.1,
                "y": 0.1
              },
              "content": {
                "cell": "c2f7177c-9a56-46a7-8e51-53c1ccdac759",
                "part": "whole"
              },
              "id": "f28295e1-c68c-4ef1-ba49-1e9122a40b0f"
            }
          }
        },
        "f5ddb0c0-353d-4e34-8d82-6b2ff74cfd78": {
          "id": "f5ddb0c0-353d-4e34-8d82-6b2ff74cfd78",
          "prev": "d55e9216-ec74-4b8a-8c86-626de0a99a3f",
          "regions": {
            "52f07325-c621-4157-88c3-1bafbb6656b5": {
              "attrs": {
                "height": 0.8,
                "width": 0.8,
                "x": 0.1,
                "y": 0.1
              },
              "content": {
                "cell": "7e847244-7b42-490f-8945-46e234a3af75",
                "part": "whole"
              },
              "id": "52f07325-c621-4157-88c3-1bafbb6656b5"
            }
          }
        },
        "f89c8884-cb84-4930-a1c4-451008b047e0": {
          "id": "f89c8884-cb84-4930-a1c4-451008b047e0",
          "prev": "84e5d013-5ab1-4159-aa5f-fc7f55caab96",
          "regions": {
            "30c3ca41-d7a7-40e8-951e-b12cbfabeb30": {
              "attrs": {
                "height": 0.8,
                "width": 0.8,
                "x": 0.1,
                "y": 0.1
              },
              "content": {
                "cell": "ecdacfd7-456b-4b29-9c7d-aba29749c18f",
                "part": "whole"
              },
              "id": "30c3ca41-d7a7-40e8-951e-b12cbfabeb30"
            }
          }
        },
        "f8f60d11-8c40-4a82-ad2d-4ddbc346064a": {
          "id": "f8f60d11-8c40-4a82-ad2d-4ddbc346064a",
          "prev": "e40b3af6-c94f-4511-a3e4-14eafa9346b2",
          "regions": {
            "53542f5f-3074-44d6-b544-3925b24bbc3a": {
              "attrs": {
                "height": 0.8,
                "width": 0.8,
                "x": 0.1,
                "y": 0.1
              },
              "content": {
                "cell": "eb6724ef-65dc-4f74-b92c-3f9e540a7b35",
                "part": "whole"
              },
              "id": "53542f5f-3074-44d6-b544-3925b24bbc3a"
            }
          }
        }
      },
      "themes": {}
    },
    "notice": "None.",
    "colab": {
      "name": "Pop_Segmentation_Solution.ipynb",
      "provenance": []
    }
  },
  "cells": [
    {
      "cell_type": "markdown",
      "metadata": {
        "nbpresent": {
          "id": "62d4851b-e85e-419e-901a-d5c03db59166"
        },
        "id": "pclOHmuSQJIV",
        "colab_type": "text"
      },
      "source": [
        "\n",
        "\n",
        "\n",
        "# Population Analysis using US Census Data\n",
        "\n",
        "I have used data containing attrbutes such as Race, Gender, labour, polulation etc and used unsupervised techniques and models to find special paradigms. In order to help with the data processing I have used AWS sagemaker tools to simplify the process and especially to help with compuational power.\n",
        "More spciefically, 1) I have preprocessed using pandas, scikit-lean etc \n",
        "                   2) Used PCA to reduce unwanted data attributes\n",
        "                   3) K- means clustering to uncover speciall patterns\n",
        "\n",
        "\n",
        "I used  US Census data (https://en.wikipedia.org/wiki/United_States_Census).\n",
        "\n",
        "\n",
        "\n",
        "---"
      ]
    },
    {
      "cell_type": "markdown",
      "metadata": {
        "id": "bqGjm-yZQJIY",
        "colab_type": "text"
      },
      "source": [
        ""
      ]
    },
    {
      "cell_type": "code",
      "metadata": {
        "nbpresent": {
          "id": "41d6f28b-3c7e-4d68-a8cb-4e063ec6fe27"
        },
        "id": "BTgoXGo3QJIa",
        "colab_type": "code",
        "colab": {}
      },
      "source": [
        "# data managing and display libs\n",
        "import pandas as pd\n",
        "import numpy as np\n",
        "import os\n",
        "import io\n",
        "\n",
        "import matplotlib.pyplot as plt\n",
        "import matplotlib\n",
        "%matplotlib inline "
      ],
      "execution_count": null,
      "outputs": []
    },
    {
      "cell_type": "code",
      "metadata": {
        "id": "Y3t_hVosQJIr",
        "colab_type": "code",
        "colab": {}
      },
      "source": [
        "# sagemaker libraries\n",
        "import boto3\n",
        "import sagemaker"
      ],
      "execution_count": null,
      "outputs": []
    },
    {
      "cell_type": "markdown",
      "metadata": {
        "id": "bnEJ7KxsQJI7",
        "colab_type": "text"
      },
      "source": [
        "Uploading the data to AWS server bucket for processing."
      ]
    },
    {
      "cell_type": "code",
      "metadata": {
        "id": "TPL_V0Z0QJI_",
        "colab_type": "code",
        "colab": {}
      },
      "source": [
        "# boto3 client to get S3 data\n",
        "s3_client = boto3.client('s3')\n",
        "# S3 bucket name\n",
        "bucket_name='aws-ml-blog-sagemaker-census-segmentation'"
      ],
      "execution_count": null,
      "outputs": []
    },
    {
      "cell_type": "code",
      "metadata": {
        "id": "XO4W0AKkQJJX",
        "colab_type": "code",
        "colab": {},
        "outputId": "e81d7365-deaf-495d-e3a5-8c038c00aa87"
      },
      "source": [
        "# get a list of objects in the bucket\n",
        "obj_list=s3_client.list_objects(Bucket=bucket_name)\n",
        "\n",
        "# print object(s)in S3 bucket\n",
        "files=[]\n",
        "for contents in obj_list['Contents']:\n",
        "    files.append(contents['Key'])\n",
        "    \n",
        "print(files)"
      ],
      "execution_count": null,
      "outputs": [
        {
          "output_type": "stream",
          "text": [
            "['Census_Data_for_SageMaker.csv']\n"
          ],
          "name": "stdout"
        }
      ]
    },
    {
      "cell_type": "code",
      "metadata": {
        "id": "0W-IULWRQJJv",
        "colab_type": "code",
        "colab": {},
        "outputId": "1d9a09f6-b209-4bc2-e092-d0bc169d98f0"
      },
      "source": [
        "file_name=files[0]\n",
        "\n",
        "print(file_name)"
      ],
      "execution_count": null,
      "outputs": [
        {
          "output_type": "stream",
          "text": [
            "Census_Data_for_SageMaker.csv\n"
          ],
          "name": "stdout"
        }
      ]
    },
    {
      "cell_type": "markdown",
      "metadata": {
        "id": "TBN-2PjAQJJ9",
        "colab_type": "text"
      },
      "source": [
        "Data gathering from S3."
      ]
    },
    {
      "cell_type": "code",
      "metadata": {
        "id": "Dreykp-MQJJ_",
        "colab_type": "code",
        "colab": {},
        "outputId": "302bd41d-df01-46c7-fd84-9a70c63df29e"
      },
      "source": [
        "# get an S3 object by passing in the bucket and file name\n",
        "data_object = s3_client.get_object(Bucket=bucket_name, Key=file_name)\n",
        "\n",
        "# what info does the object contain?\n",
        "display(data_object)"
      ],
      "execution_count": null,
      "outputs": [
        {
          "output_type": "display_data",
          "data": {
            "text/plain": [
              "{'ResponseMetadata': {'RequestId': 'BDF2626E80A9D106',\n",
              "  'HostId': 'rJGVoQcGEgWO1A0qgYIhadqWBWjAf/9FHxuai6IObBFm++9aC+sbKm/FqeQhJs2X8XRb+f2aYvc=',\n",
              "  'HTTPStatusCode': 200,\n",
              "  'HTTPHeaders': {'x-amz-id-2': 'rJGVoQcGEgWO1A0qgYIhadqWBWjAf/9FHxuai6IObBFm++9aC+sbKm/FqeQhJs2X8XRb+f2aYvc=',\n",
              "   'x-amz-request-id': 'BDF2626E80A9D106',\n",
              "   'date': 'Fri, 08 Mar 2019 00:07:34 GMT',\n",
              "   'last-modified': 'Wed, 12 Sep 2018 15:13:37 GMT',\n",
              "   'etag': '\"066d37f43f7762f1eb409b1660fe9763\"',\n",
              "   'accept-ranges': 'bytes',\n",
              "   'content-type': 'text/csv',\n",
              "   'content-length': '613237',\n",
              "   'server': 'AmazonS3'},\n",
              "  'RetryAttempts': 0},\n",
              " 'AcceptRanges': 'bytes',\n",
              " 'LastModified': datetime.datetime(2018, 9, 12, 15, 13, 37, tzinfo=tzutc()),\n",
              " 'ContentLength': 613237,\n",
              " 'ETag': '\"066d37f43f7762f1eb409b1660fe9763\"',\n",
              " 'ContentType': 'text/csv',\n",
              " 'Metadata': {},\n",
              " 'Body': <botocore.response.StreamingBody at 0x7fc8c171fc18>}"
            ]
          },
          "metadata": {
            "tags": []
          }
        }
      ]
    },
    {
      "cell_type": "code",
      "metadata": {
        "id": "1OZagvy5QJKR",
        "colab_type": "code",
        "colab": {},
        "outputId": "7d7c24d9-a253-4d25-f8e0-b8452181db42"
      },
      "source": [
        "# information is in the \"Body\" of the object\n",
        "data_body = data_object[\"Body\"].read()\n",
        "print('Data type: ', type(data_body))"
      ],
      "execution_count": null,
      "outputs": [
        {
          "output_type": "stream",
          "text": [
            "Data type:  <class 'bytes'>\n"
          ],
          "name": "stdout"
        }
      ]
    },
    {
      "cell_type": "code",
      "metadata": {
        "nbpresent": {
          "id": "97a46770-dbe0-40ea-b454-b15bdec20f53"
        },
        "id": "jWz8e8WUQJKh",
        "colab_type": "code",
        "colab": {},
        "outputId": "67f275d5-453a-485e-c7f7-2ed44ffef303"
      },
      "source": [
        "# read in bytes data\n",
        "data_stream = io.BytesIO(data_body)\n",
        "\n",
        "# create a dataframe\n",
        "counties_df = pd.read_csv(data_stream, header=0, delimiter=\",\") \n",
        "counties_df.head()"
      ],
      "execution_count": null,
      "outputs": [
        {
          "output_type": "execute_result",
          "data": {
            "text/html": [
              "<div>\n",
              "<style scoped>\n",
              "    .dataframe tbody tr th:only-of-type {\n",
              "        vertical-align: middle;\n",
              "    }\n",
              "\n",
              "    .dataframe tbody tr th {\n",
              "        vertical-align: top;\n",
              "    }\n",
              "\n",
              "    .dataframe thead th {\n",
              "        text-align: right;\n",
              "    }\n",
              "</style>\n",
              "<table border=\"1\" class=\"dataframe\">\n",
              "  <thead>\n",
              "    <tr style=\"text-align: right;\">\n",
              "      <th></th>\n",
              "      <th>CensusId</th>\n",
              "      <th>State</th>\n",
              "      <th>County</th>\n",
              "      <th>TotalPop</th>\n",
              "      <th>Men</th>\n",
              "      <th>Women</th>\n",
              "      <th>Hispanic</th>\n",
              "      <th>White</th>\n",
              "      <th>Black</th>\n",
              "      <th>Native</th>\n",
              "      <th>...</th>\n",
              "      <th>Walk</th>\n",
              "      <th>OtherTransp</th>\n",
              "      <th>WorkAtHome</th>\n",
              "      <th>MeanCommute</th>\n",
              "      <th>Employed</th>\n",
              "      <th>PrivateWork</th>\n",
              "      <th>PublicWork</th>\n",
              "      <th>SelfEmployed</th>\n",
              "      <th>FamilyWork</th>\n",
              "      <th>Unemployment</th>\n",
              "    </tr>\n",
              "  </thead>\n",
              "  <tbody>\n",
              "    <tr>\n",
              "      <th>0</th>\n",
              "      <td>1001</td>\n",
              "      <td>Alabama</td>\n",
              "      <td>Autauga</td>\n",
              "      <td>55221</td>\n",
              "      <td>26745</td>\n",
              "      <td>28476</td>\n",
              "      <td>2.6</td>\n",
              "      <td>75.8</td>\n",
              "      <td>18.5</td>\n",
              "      <td>0.4</td>\n",
              "      <td>...</td>\n",
              "      <td>0.5</td>\n",
              "      <td>1.3</td>\n",
              "      <td>1.8</td>\n",
              "      <td>26.5</td>\n",
              "      <td>23986</td>\n",
              "      <td>73.6</td>\n",
              "      <td>20.9</td>\n",
              "      <td>5.5</td>\n",
              "      <td>0.0</td>\n",
              "      <td>7.6</td>\n",
              "    </tr>\n",
              "    <tr>\n",
              "      <th>1</th>\n",
              "      <td>1003</td>\n",
              "      <td>Alabama</td>\n",
              "      <td>Baldwin</td>\n",
              "      <td>195121</td>\n",
              "      <td>95314</td>\n",
              "      <td>99807</td>\n",
              "      <td>4.5</td>\n",
              "      <td>83.1</td>\n",
              "      <td>9.5</td>\n",
              "      <td>0.6</td>\n",
              "      <td>...</td>\n",
              "      <td>1.0</td>\n",
              "      <td>1.4</td>\n",
              "      <td>3.9</td>\n",
              "      <td>26.4</td>\n",
              "      <td>85953</td>\n",
              "      <td>81.5</td>\n",
              "      <td>12.3</td>\n",
              "      <td>5.8</td>\n",
              "      <td>0.4</td>\n",
              "      <td>7.5</td>\n",
              "    </tr>\n",
              "    <tr>\n",
              "      <th>2</th>\n",
              "      <td>1005</td>\n",
              "      <td>Alabama</td>\n",
              "      <td>Barbour</td>\n",
              "      <td>26932</td>\n",
              "      <td>14497</td>\n",
              "      <td>12435</td>\n",
              "      <td>4.6</td>\n",
              "      <td>46.2</td>\n",
              "      <td>46.7</td>\n",
              "      <td>0.2</td>\n",
              "      <td>...</td>\n",
              "      <td>1.8</td>\n",
              "      <td>1.5</td>\n",
              "      <td>1.6</td>\n",
              "      <td>24.1</td>\n",
              "      <td>8597</td>\n",
              "      <td>71.8</td>\n",
              "      <td>20.8</td>\n",
              "      <td>7.3</td>\n",
              "      <td>0.1</td>\n",
              "      <td>17.6</td>\n",
              "    </tr>\n",
              "    <tr>\n",
              "      <th>3</th>\n",
              "      <td>1007</td>\n",
              "      <td>Alabama</td>\n",
              "      <td>Bibb</td>\n",
              "      <td>22604</td>\n",
              "      <td>12073</td>\n",
              "      <td>10531</td>\n",
              "      <td>2.2</td>\n",
              "      <td>74.5</td>\n",
              "      <td>21.4</td>\n",
              "      <td>0.4</td>\n",
              "      <td>...</td>\n",
              "      <td>0.6</td>\n",
              "      <td>1.5</td>\n",
              "      <td>0.7</td>\n",
              "      <td>28.8</td>\n",
              "      <td>8294</td>\n",
              "      <td>76.8</td>\n",
              "      <td>16.1</td>\n",
              "      <td>6.7</td>\n",
              "      <td>0.4</td>\n",
              "      <td>8.3</td>\n",
              "    </tr>\n",
              "    <tr>\n",
              "      <th>4</th>\n",
              "      <td>1009</td>\n",
              "      <td>Alabama</td>\n",
              "      <td>Blount</td>\n",
              "      <td>57710</td>\n",
              "      <td>28512</td>\n",
              "      <td>29198</td>\n",
              "      <td>8.6</td>\n",
              "      <td>87.9</td>\n",
              "      <td>1.5</td>\n",
              "      <td>0.3</td>\n",
              "      <td>...</td>\n",
              "      <td>0.9</td>\n",
              "      <td>0.4</td>\n",
              "      <td>2.3</td>\n",
              "      <td>34.9</td>\n",
              "      <td>22189</td>\n",
              "      <td>82.0</td>\n",
              "      <td>13.5</td>\n",
              "      <td>4.2</td>\n",
              "      <td>0.4</td>\n",
              "      <td>7.7</td>\n",
              "    </tr>\n",
              "  </tbody>\n",
              "</table>\n",
              "<p>5 rows × 37 columns</p>\n",
              "</div>"
            ],
            "text/plain": [
              "   CensusId    State   County  TotalPop    Men  Women  Hispanic  White  Black  \\\n",
              "0      1001  Alabama  Autauga     55221  26745  28476       2.6   75.8   18.5   \n",
              "1      1003  Alabama  Baldwin    195121  95314  99807       4.5   83.1    9.5   \n",
              "2      1005  Alabama  Barbour     26932  14497  12435       4.6   46.2   46.7   \n",
              "3      1007  Alabama     Bibb     22604  12073  10531       2.2   74.5   21.4   \n",
              "4      1009  Alabama   Blount     57710  28512  29198       8.6   87.9    1.5   \n",
              "\n",
              "   Native      ...       Walk  OtherTransp  WorkAtHome  MeanCommute  Employed  \\\n",
              "0     0.4      ...        0.5          1.3         1.8         26.5     23986   \n",
              "1     0.6      ...        1.0          1.4         3.9         26.4     85953   \n",
              "2     0.2      ...        1.8          1.5         1.6         24.1      8597   \n",
              "3     0.4      ...        0.6          1.5         0.7         28.8      8294   \n",
              "4     0.3      ...        0.9          0.4         2.3         34.9     22189   \n",
              "\n",
              "   PrivateWork  PublicWork  SelfEmployed  FamilyWork  Unemployment  \n",
              "0         73.6        20.9           5.5         0.0           7.6  \n",
              "1         81.5        12.3           5.8         0.4           7.5  \n",
              "2         71.8        20.8           7.3         0.1          17.6  \n",
              "3         76.8        16.1           6.7         0.4           8.3  \n",
              "4         82.0        13.5           4.2         0.4           7.7  \n",
              "\n",
              "[5 rows x 37 columns]"
            ]
          },
          "metadata": {
            "tags": []
          },
          "execution_count": 9
        }
      ]
    },
    {
      "cell_type": "code",
      "metadata": {
        "id": "UMWszVgTQJKy",
        "colab_type": "code",
        "colab": {},
        "outputId": "a337f307-c795-4813-c33a-6e7294580cab"
      },
      "source": [
        "# print out stats about data\n",
        "# rows = data, cols = features\n",
        "print('(orig) rows, cols: ', counties_df.shape)\n",
        "\n",
        "# drop any incomplete data\n",
        "clean_counties_df = counties_df.dropna(axis=0)\n",
        "print('(clean) rows, cols: ', clean_counties_df.shape)"
      ],
      "execution_count": null,
      "outputs": [
        {
          "output_type": "stream",
          "text": [
            "(orig) rows, cols:  (3220, 37)\n",
            "(clean) rows, cols:  (3218, 37)\n"
          ],
          "name": "stdout"
        }
      ]
    },
    {
      "cell_type": "code",
      "metadata": {
        "id": "BuT1qib7QJLQ",
        "colab_type": "code",
        "colab": {},
        "outputId": "d721acf0-3143-4938-ba8d-7e882c489d94"
      },
      "source": [
        "# index data by 'State-County'\n",
        "clean_counties_df.index=clean_counties_df['State'] + \"-\" + clean_counties_df['County']\n",
        "clean_counties_df.head()"
      ],
      "execution_count": null,
      "outputs": [
        {
          "output_type": "execute_result",
          "data": {
            "text/html": [
              "<div>\n",
              "<style scoped>\n",
              "    .dataframe tbody tr th:only-of-type {\n",
              "        vertical-align: middle;\n",
              "    }\n",
              "\n",
              "    .dataframe tbody tr th {\n",
              "        vertical-align: top;\n",
              "    }\n",
              "\n",
              "    .dataframe thead th {\n",
              "        text-align: right;\n",
              "    }\n",
              "</style>\n",
              "<table border=\"1\" class=\"dataframe\">\n",
              "  <thead>\n",
              "    <tr style=\"text-align: right;\">\n",
              "      <th></th>\n",
              "      <th>CensusId</th>\n",
              "      <th>State</th>\n",
              "      <th>County</th>\n",
              "      <th>TotalPop</th>\n",
              "      <th>Men</th>\n",
              "      <th>Women</th>\n",
              "      <th>Hispanic</th>\n",
              "      <th>White</th>\n",
              "      <th>Black</th>\n",
              "      <th>Native</th>\n",
              "      <th>...</th>\n",
              "      <th>Walk</th>\n",
              "      <th>OtherTransp</th>\n",
              "      <th>WorkAtHome</th>\n",
              "      <th>MeanCommute</th>\n",
              "      <th>Employed</th>\n",
              "      <th>PrivateWork</th>\n",
              "      <th>PublicWork</th>\n",
              "      <th>SelfEmployed</th>\n",
              "      <th>FamilyWork</th>\n",
              "      <th>Unemployment</th>\n",
              "    </tr>\n",
              "  </thead>\n",
              "  <tbody>\n",
              "    <tr>\n",
              "      <th>Alabama-Autauga</th>\n",
              "      <td>1001</td>\n",
              "      <td>Alabama</td>\n",
              "      <td>Autauga</td>\n",
              "      <td>55221</td>\n",
              "      <td>26745</td>\n",
              "      <td>28476</td>\n",
              "      <td>2.6</td>\n",
              "      <td>75.8</td>\n",
              "      <td>18.5</td>\n",
              "      <td>0.4</td>\n",
              "      <td>...</td>\n",
              "      <td>0.5</td>\n",
              "      <td>1.3</td>\n",
              "      <td>1.8</td>\n",
              "      <td>26.5</td>\n",
              "      <td>23986</td>\n",
              "      <td>73.6</td>\n",
              "      <td>20.9</td>\n",
              "      <td>5.5</td>\n",
              "      <td>0.0</td>\n",
              "      <td>7.6</td>\n",
              "    </tr>\n",
              "    <tr>\n",
              "      <th>Alabama-Baldwin</th>\n",
              "      <td>1003</td>\n",
              "      <td>Alabama</td>\n",
              "      <td>Baldwin</td>\n",
              "      <td>195121</td>\n",
              "      <td>95314</td>\n",
              "      <td>99807</td>\n",
              "      <td>4.5</td>\n",
              "      <td>83.1</td>\n",
              "      <td>9.5</td>\n",
              "      <td>0.6</td>\n",
              "      <td>...</td>\n",
              "      <td>1.0</td>\n",
              "      <td>1.4</td>\n",
              "      <td>3.9</td>\n",
              "      <td>26.4</td>\n",
              "      <td>85953</td>\n",
              "      <td>81.5</td>\n",
              "      <td>12.3</td>\n",
              "      <td>5.8</td>\n",
              "      <td>0.4</td>\n",
              "      <td>7.5</td>\n",
              "    </tr>\n",
              "    <tr>\n",
              "      <th>Alabama-Barbour</th>\n",
              "      <td>1005</td>\n",
              "      <td>Alabama</td>\n",
              "      <td>Barbour</td>\n",
              "      <td>26932</td>\n",
              "      <td>14497</td>\n",
              "      <td>12435</td>\n",
              "      <td>4.6</td>\n",
              "      <td>46.2</td>\n",
              "      <td>46.7</td>\n",
              "      <td>0.2</td>\n",
              "      <td>...</td>\n",
              "      <td>1.8</td>\n",
              "      <td>1.5</td>\n",
              "      <td>1.6</td>\n",
              "      <td>24.1</td>\n",
              "      <td>8597</td>\n",
              "      <td>71.8</td>\n",
              "      <td>20.8</td>\n",
              "      <td>7.3</td>\n",
              "      <td>0.1</td>\n",
              "      <td>17.6</td>\n",
              "    </tr>\n",
              "    <tr>\n",
              "      <th>Alabama-Bibb</th>\n",
              "      <td>1007</td>\n",
              "      <td>Alabama</td>\n",
              "      <td>Bibb</td>\n",
              "      <td>22604</td>\n",
              "      <td>12073</td>\n",
              "      <td>10531</td>\n",
              "      <td>2.2</td>\n",
              "      <td>74.5</td>\n",
              "      <td>21.4</td>\n",
              "      <td>0.4</td>\n",
              "      <td>...</td>\n",
              "      <td>0.6</td>\n",
              "      <td>1.5</td>\n",
              "      <td>0.7</td>\n",
              "      <td>28.8</td>\n",
              "      <td>8294</td>\n",
              "      <td>76.8</td>\n",
              "      <td>16.1</td>\n",
              "      <td>6.7</td>\n",
              "      <td>0.4</td>\n",
              "      <td>8.3</td>\n",
              "    </tr>\n",
              "    <tr>\n",
              "      <th>Alabama-Blount</th>\n",
              "      <td>1009</td>\n",
              "      <td>Alabama</td>\n",
              "      <td>Blount</td>\n",
              "      <td>57710</td>\n",
              "      <td>28512</td>\n",
              "      <td>29198</td>\n",
              "      <td>8.6</td>\n",
              "      <td>87.9</td>\n",
              "      <td>1.5</td>\n",
              "      <td>0.3</td>\n",
              "      <td>...</td>\n",
              "      <td>0.9</td>\n",
              "      <td>0.4</td>\n",
              "      <td>2.3</td>\n",
              "      <td>34.9</td>\n",
              "      <td>22189</td>\n",
              "      <td>82.0</td>\n",
              "      <td>13.5</td>\n",
              "      <td>4.2</td>\n",
              "      <td>0.4</td>\n",
              "      <td>7.7</td>\n",
              "    </tr>\n",
              "  </tbody>\n",
              "</table>\n",
              "<p>5 rows × 37 columns</p>\n",
              "</div>"
            ],
            "text/plain": [
              "                 CensusId    State   County  TotalPop    Men  Women  Hispanic  \\\n",
              "Alabama-Autauga      1001  Alabama  Autauga     55221  26745  28476       2.6   \n",
              "Alabama-Baldwin      1003  Alabama  Baldwin    195121  95314  99807       4.5   \n",
              "Alabama-Barbour      1005  Alabama  Barbour     26932  14497  12435       4.6   \n",
              "Alabama-Bibb         1007  Alabama     Bibb     22604  12073  10531       2.2   \n",
              "Alabama-Blount       1009  Alabama   Blount     57710  28512  29198       8.6   \n",
              "\n",
              "                 White  Black  Native      ...       Walk  OtherTransp  \\\n",
              "Alabama-Autauga   75.8   18.5     0.4      ...        0.5          1.3   \n",
              "Alabama-Baldwin   83.1    9.5     0.6      ...        1.0          1.4   \n",
              "Alabama-Barbour   46.2   46.7     0.2      ...        1.8          1.5   \n",
              "Alabama-Bibb      74.5   21.4     0.4      ...        0.6          1.5   \n",
              "Alabama-Blount    87.9    1.5     0.3      ...        0.9          0.4   \n",
              "\n",
              "                 WorkAtHome  MeanCommute  Employed  PrivateWork  PublicWork  \\\n",
              "Alabama-Autauga         1.8         26.5     23986         73.6        20.9   \n",
              "Alabama-Baldwin         3.9         26.4     85953         81.5        12.3   \n",
              "Alabama-Barbour         1.6         24.1      8597         71.8        20.8   \n",
              "Alabama-Bibb            0.7         28.8      8294         76.8        16.1   \n",
              "Alabama-Blount          2.3         34.9     22189         82.0        13.5   \n",
              "\n",
              "                 SelfEmployed  FamilyWork  Unemployment  \n",
              "Alabama-Autauga           5.5         0.0           7.6  \n",
              "Alabama-Baldwin           5.8         0.4           7.5  \n",
              "Alabama-Barbour           7.3         0.1          17.6  \n",
              "Alabama-Bibb              6.7         0.4           8.3  \n",
              "Alabama-Blount            4.2         0.4           7.7  \n",
              "\n",
              "[5 rows x 37 columns]"
            ]
          },
          "metadata": {
            "tags": []
          },
          "execution_count": 11
        }
      ]
    },
    {
      "cell_type": "code",
      "metadata": {
        "id": "TUqsnxCAQJLz",
        "colab_type": "code",
        "colab": {},
        "outputId": "bafeb510-5021-4807-d293-1c21215446f0"
      },
      "source": [
        "# drop the old State and County columns, and the CensusId column\n",
        "# clean df should be modified or created anew\n",
        "drop=[\"CensusId\" , \"State\" , \"County\"]\n",
        "clean_counties_df = clean_counties_df.drop(columns=drop)\n",
        "clean_counties_df.head()"
      ],
      "execution_count": null,
      "outputs": [
        {
          "output_type": "execute_result",
          "data": {
            "text/html": [
              "<div>\n",
              "<style scoped>\n",
              "    .dataframe tbody tr th:only-of-type {\n",
              "        vertical-align: middle;\n",
              "    }\n",
              "\n",
              "    .dataframe tbody tr th {\n",
              "        vertical-align: top;\n",
              "    }\n",
              "\n",
              "    .dataframe thead th {\n",
              "        text-align: right;\n",
              "    }\n",
              "</style>\n",
              "<table border=\"1\" class=\"dataframe\">\n",
              "  <thead>\n",
              "    <tr style=\"text-align: right;\">\n",
              "      <th></th>\n",
              "      <th>TotalPop</th>\n",
              "      <th>Men</th>\n",
              "      <th>Women</th>\n",
              "      <th>Hispanic</th>\n",
              "      <th>White</th>\n",
              "      <th>Black</th>\n",
              "      <th>Native</th>\n",
              "      <th>Asian</th>\n",
              "      <th>Pacific</th>\n",
              "      <th>Citizen</th>\n",
              "      <th>...</th>\n",
              "      <th>Walk</th>\n",
              "      <th>OtherTransp</th>\n",
              "      <th>WorkAtHome</th>\n",
              "      <th>MeanCommute</th>\n",
              "      <th>Employed</th>\n",
              "      <th>PrivateWork</th>\n",
              "      <th>PublicWork</th>\n",
              "      <th>SelfEmployed</th>\n",
              "      <th>FamilyWork</th>\n",
              "      <th>Unemployment</th>\n",
              "    </tr>\n",
              "  </thead>\n",
              "  <tbody>\n",
              "    <tr>\n",
              "      <th>Alabama-Autauga</th>\n",
              "      <td>55221</td>\n",
              "      <td>26745</td>\n",
              "      <td>28476</td>\n",
              "      <td>2.6</td>\n",
              "      <td>75.8</td>\n",
              "      <td>18.5</td>\n",
              "      <td>0.4</td>\n",
              "      <td>1.0</td>\n",
              "      <td>0.0</td>\n",
              "      <td>40725</td>\n",
              "      <td>...</td>\n",
              "      <td>0.5</td>\n",
              "      <td>1.3</td>\n",
              "      <td>1.8</td>\n",
              "      <td>26.5</td>\n",
              "      <td>23986</td>\n",
              "      <td>73.6</td>\n",
              "      <td>20.9</td>\n",
              "      <td>5.5</td>\n",
              "      <td>0.0</td>\n",
              "      <td>7.6</td>\n",
              "    </tr>\n",
              "    <tr>\n",
              "      <th>Alabama-Baldwin</th>\n",
              "      <td>195121</td>\n",
              "      <td>95314</td>\n",
              "      <td>99807</td>\n",
              "      <td>4.5</td>\n",
              "      <td>83.1</td>\n",
              "      <td>9.5</td>\n",
              "      <td>0.6</td>\n",
              "      <td>0.7</td>\n",
              "      <td>0.0</td>\n",
              "      <td>147695</td>\n",
              "      <td>...</td>\n",
              "      <td>1.0</td>\n",
              "      <td>1.4</td>\n",
              "      <td>3.9</td>\n",
              "      <td>26.4</td>\n",
              "      <td>85953</td>\n",
              "      <td>81.5</td>\n",
              "      <td>12.3</td>\n",
              "      <td>5.8</td>\n",
              "      <td>0.4</td>\n",
              "      <td>7.5</td>\n",
              "    </tr>\n",
              "    <tr>\n",
              "      <th>Alabama-Barbour</th>\n",
              "      <td>26932</td>\n",
              "      <td>14497</td>\n",
              "      <td>12435</td>\n",
              "      <td>4.6</td>\n",
              "      <td>46.2</td>\n",
              "      <td>46.7</td>\n",
              "      <td>0.2</td>\n",
              "      <td>0.4</td>\n",
              "      <td>0.0</td>\n",
              "      <td>20714</td>\n",
              "      <td>...</td>\n",
              "      <td>1.8</td>\n",
              "      <td>1.5</td>\n",
              "      <td>1.6</td>\n",
              "      <td>24.1</td>\n",
              "      <td>8597</td>\n",
              "      <td>71.8</td>\n",
              "      <td>20.8</td>\n",
              "      <td>7.3</td>\n",
              "      <td>0.1</td>\n",
              "      <td>17.6</td>\n",
              "    </tr>\n",
              "    <tr>\n",
              "      <th>Alabama-Bibb</th>\n",
              "      <td>22604</td>\n",
              "      <td>12073</td>\n",
              "      <td>10531</td>\n",
              "      <td>2.2</td>\n",
              "      <td>74.5</td>\n",
              "      <td>21.4</td>\n",
              "      <td>0.4</td>\n",
              "      <td>0.1</td>\n",
              "      <td>0.0</td>\n",
              "      <td>17495</td>\n",
              "      <td>...</td>\n",
              "      <td>0.6</td>\n",
              "      <td>1.5</td>\n",
              "      <td>0.7</td>\n",
              "      <td>28.8</td>\n",
              "      <td>8294</td>\n",
              "      <td>76.8</td>\n",
              "      <td>16.1</td>\n",
              "      <td>6.7</td>\n",
              "      <td>0.4</td>\n",
              "      <td>8.3</td>\n",
              "    </tr>\n",
              "    <tr>\n",
              "      <th>Alabama-Blount</th>\n",
              "      <td>57710</td>\n",
              "      <td>28512</td>\n",
              "      <td>29198</td>\n",
              "      <td>8.6</td>\n",
              "      <td>87.9</td>\n",
              "      <td>1.5</td>\n",
              "      <td>0.3</td>\n",
              "      <td>0.1</td>\n",
              "      <td>0.0</td>\n",
              "      <td>42345</td>\n",
              "      <td>...</td>\n",
              "      <td>0.9</td>\n",
              "      <td>0.4</td>\n",
              "      <td>2.3</td>\n",
              "      <td>34.9</td>\n",
              "      <td>22189</td>\n",
              "      <td>82.0</td>\n",
              "      <td>13.5</td>\n",
              "      <td>4.2</td>\n",
              "      <td>0.4</td>\n",
              "      <td>7.7</td>\n",
              "    </tr>\n",
              "  </tbody>\n",
              "</table>\n",
              "<p>5 rows × 34 columns</p>\n",
              "</div>"
            ],
            "text/plain": [
              "                 TotalPop    Men  Women  Hispanic  White  Black  Native  \\\n",
              "Alabama-Autauga     55221  26745  28476       2.6   75.8   18.5     0.4   \n",
              "Alabama-Baldwin    195121  95314  99807       4.5   83.1    9.5     0.6   \n",
              "Alabama-Barbour     26932  14497  12435       4.6   46.2   46.7     0.2   \n",
              "Alabama-Bibb        22604  12073  10531       2.2   74.5   21.4     0.4   \n",
              "Alabama-Blount      57710  28512  29198       8.6   87.9    1.5     0.3   \n",
              "\n",
              "                 Asian  Pacific  Citizen      ...       Walk  OtherTransp  \\\n",
              "Alabama-Autauga    1.0      0.0    40725      ...        0.5          1.3   \n",
              "Alabama-Baldwin    0.7      0.0   147695      ...        1.0          1.4   \n",
              "Alabama-Barbour    0.4      0.0    20714      ...        1.8          1.5   \n",
              "Alabama-Bibb       0.1      0.0    17495      ...        0.6          1.5   \n",
              "Alabama-Blount     0.1      0.0    42345      ...        0.9          0.4   \n",
              "\n",
              "                 WorkAtHome  MeanCommute  Employed  PrivateWork  PublicWork  \\\n",
              "Alabama-Autauga         1.8         26.5     23986         73.6        20.9   \n",
              "Alabama-Baldwin         3.9         26.4     85953         81.5        12.3   \n",
              "Alabama-Barbour         1.6         24.1      8597         71.8        20.8   \n",
              "Alabama-Bibb            0.7         28.8      8294         76.8        16.1   \n",
              "Alabama-Blount          2.3         34.9     22189         82.0        13.5   \n",
              "\n",
              "                 SelfEmployed  FamilyWork  Unemployment  \n",
              "Alabama-Autauga           5.5         0.0           7.6  \n",
              "Alabama-Baldwin           5.8         0.4           7.5  \n",
              "Alabama-Barbour           7.3         0.1          17.6  \n",
              "Alabama-Bibb              6.7         0.4           8.3  \n",
              "Alabama-Blount            4.2         0.4           7.7  \n",
              "\n",
              "[5 rows x 34 columns]"
            ]
          },
          "metadata": {
            "tags": []
          },
          "execution_count": 12
        }
      ]
    },
    {
      "cell_type": "markdown",
      "metadata": {
        "id": "EJ0Aw-eiQJL-",
        "colab_type": "text"
      },
      "source": [
        "Now, what features do you have to work with?"
      ]
    },
    {
      "cell_type": "code",
      "metadata": {
        "id": "OgsL2gUnQJL_",
        "colab_type": "code",
        "colab": {},
        "outputId": "0e775838-ad4a-4b9b-a0b7-270f3599af70"
      },
      "source": [
        "# features\n",
        "features_list = clean_counties_df.columns.values\n",
        "print('Features: \\n', features_list)"
      ],
      "execution_count": null,
      "outputs": [
        {
          "output_type": "stream",
          "text": [
            "Features: \n",
            " ['TotalPop' 'Men' 'Women' 'Hispanic' 'White' 'Black' 'Native' 'Asian'\n",
            " 'Pacific' 'Citizen' 'Income' 'IncomeErr' 'IncomePerCap' 'IncomePerCapErr'\n",
            " 'Poverty' 'ChildPoverty' 'Professional' 'Service' 'Office' 'Construction'\n",
            " 'Production' 'Drive' 'Carpool' 'Transit' 'Walk' 'OtherTransp'\n",
            " 'WorkAtHome' 'MeanCommute' 'Employed' 'PrivateWork' 'PublicWork'\n",
            " 'SelfEmployed' 'FamilyWork' 'Unemployment']\n"
          ],
          "name": "stdout"
        }
      ]
    },
    {
      "cell_type": "code",
      "metadata": {
        "id": "__E2xnjYQJMw",
        "colab_type": "code",
        "colab": {},
        "outputId": "1d02e0a2-42d7-4af8-ab6a-cf52d5d8c4a9"
      },
      "source": [
        "from sagemaker import get_execution_role\n",
        "\n",
        "session = sagemaker.Session() # store the current SageMaker session\n",
        "\n",
        "# get IAM role\n",
        "role = get_execution_role()\n",
        "print(role)"
      ],
      "execution_count": null,
      "outputs": [
        {
          "output_type": "stream",
          "text": [
            "arn:aws:iam::467380521728:role/service-role/AmazonSageMaker-ExecutionRole-20190307T133365\n"
          ],
          "name": "stdout"
        }
      ]
    },
    {
      "cell_type": "code",
      "metadata": {
        "id": "1QChERuOQJM3",
        "colab_type": "code",
        "colab": {},
        "outputId": "14932543-f3e1-45fb-debf-7a108a3c9cc2"
      },
      "source": [
        "# get default bucket\n",
        "bucket_name = session.default_bucket()\n",
        "print(bucket_name)\n",
        "print()"
      ],
      "execution_count": null,
      "outputs": [
        {
          "output_type": "stream",
          "text": [
            "sagemaker-us-west-1-467380521728\n",
            "\n"
          ],
          "name": "stdout"
        }
      ]
    },
    {
      "cell_type": "markdown",
      "metadata": {
        "id": "FxqdBLkvQJNC",
        "colab_type": "text"
      },
      "source": [
        "Creating PCA Model\n"
      ]
    },
    {
      "cell_type": "code",
      "metadata": {
        "id": "VO-yywIRQJND",
        "colab_type": "code",
        "colab": {},
        "outputId": "3c005724-8c9e-4335-bb77-e183a9747222"
      },
      "source": [
        "# define location to store model artifacts\n",
        "prefix = 'counties'\n",
        "\n",
        "output_path='s3://{}/{}/'.format(bucket_name, prefix)\n",
        "\n",
        "print('Training artifacts will be uploaded to: {}'.format(output_path))"
      ],
      "execution_count": null,
      "outputs": [
        {
          "output_type": "stream",
          "text": [
            "Training artifacts will be uploaded to: s3://sagemaker-us-west-1-467380521728/counties/\n"
          ],
          "name": "stdout"
        }
      ]
    },
    {
      "cell_type": "code",
      "metadata": {
        "id": "FeTMCYaPQJNK",
        "colab_type": "code",
        "colab": {}
      },
      "source": [
        "# define a PCA model\n",
        "from sagemaker import PCA\n",
        "\n",
        "# this is current features - 1\n",
        "# you'll select only a portion of these to use, later\n",
        "N_COMPONENTS=33\n",
        "\n",
        "pca_SM = PCA(role=role,\n",
        "             train_instance_count=1,\n",
        "             train_instance_type='ml.c4.xlarge',\n",
        "             output_path=output_path, # specified, above\n",
        "             num_components=N_COMPONENTS, \n",
        "             sagemaker_session=session)\n"
      ],
      "execution_count": null,
      "outputs": []
    },
    {
      "cell_type": "markdown",
      "metadata": {
        "id": "IYljsrSWQJNZ",
        "colab_type": "text"
      },
      "source": [
        ""
      ]
    },
    {
      "cell_type": "code",
      "metadata": {
        "id": "sIp3H9g_QJNa",
        "colab_type": "code",
        "colab": {}
      },
      "source": [
        "# convert df to np array\n",
        "train_data_np = counties_scaled.values.astype('float32')\n",
        "\n",
        "# convert to RecordSet format\n",
        "formatted_train_data = pca_SM.record_set(train_data_np)"
      ],
      "execution_count": null,
      "outputs": []
    },
    {
      "cell_type": "markdown",
      "metadata": {
        "id": "xaABQmsjQJNo",
        "colab_type": "text"
      },
      "source": [
        "## Training the model"
      ]
    },
    {
      "cell_type": "code",
      "metadata": {
        "id": "VXB2IapBQJNo",
        "colab_type": "code",
        "colab": {},
        "outputId": "351d4298-bbfc-4f4e-b61c-de992423c2a0"
      },
      "source": [
        "%%time\n",
        "\n",
        "# train the PCA mode on the formatted data\n",
        "pca_SM.fit(formatted_train_data)"
      ],
      "execution_count": null,
      "outputs": [
        {
          "output_type": "stream",
          "text": [
            "INFO:sagemaker:Creating training-job with name: pca-2019-03-08-00-07-38-756\n"
          ],
          "name": "stderr"
        },
        {
          "output_type": "stream",
          "text": [
            "2019-03-08 00:07:38 Starting - Starting the training job...\n",
            "2019-03-08 00:07:41 Starting - Launching requested ML instances......\n",
            "2019-03-08 00:08:42 Starting - Preparing the instances for training......\n",
            "2019-03-08 00:10:05 Downloading - Downloading input data..\n",
            "\u001b[31mDocker entrypoint called with argument(s): train\u001b[0m\n",
            "\u001b[31m[03/08/2019 00:10:18 INFO 140212411717440] Reading default configuration from /opt/amazon/lib/python2.7/site-packages/algorithm/resources/default-conf.json: {u'_num_gpus': u'auto', u'_log_level': u'info', u'subtract_mean': u'true', u'force_dense': u'true', u'epochs': 1, u'algorithm_mode': u'regular', u'extra_components': u'-1', u'_kvstore': u'dist_sync', u'_num_kv_servers': u'auto'}\u001b[0m\n",
            "\u001b[31m[03/08/2019 00:10:18 INFO 140212411717440] Reading provided configuration from /opt/ml/input/config/hyperparameters.json: {u'feature_dim': u'34', u'mini_batch_size': u'500', u'num_components': u'33'}\u001b[0m\n",
            "\u001b[31m[03/08/2019 00:10:18 INFO 140212411717440] Final configuration: {u'num_components': u'33', u'_num_gpus': u'auto', u'_log_level': u'info', u'subtract_mean': u'true', u'force_dense': u'true', u'epochs': 1, u'algorithm_mode': u'regular', u'feature_dim': u'34', u'extra_components': u'-1', u'_kvstore': u'dist_sync', u'_num_kv_servers': u'auto', u'mini_batch_size': u'500'}\u001b[0m\n",
            "\u001b[31m[03/08/2019 00:10:18 WARNING 140212411717440] Loggers have already been setup.\u001b[0m\n",
            "\u001b[31m[03/08/2019 00:10:18 INFO 140212411717440] Launching parameter server for role scheduler\u001b[0m\n",
            "\u001b[31m[03/08/2019 00:10:18 INFO 140212411717440] {'ECS_CONTAINER_METADATA_URI': 'http://169.254.170.2/v3/2a343c78-c2c7-48e8-bf1d-79ad865e5656', 'PROTOCOL_BUFFERS_PYTHON_IMPLEMENTATION_VERSION': '2', 'PATH': '/opt/amazon/bin:/usr/local/nvidia/bin:/usr/local/sbin:/usr/local/bin:/usr/sbin:/usr/bin:/sbin:/bin:/opt/amazon/bin:/opt/amazon/bin', 'SAGEMAKER_HTTP_PORT': '8080', 'HOME': '/root', 'PYTHONUNBUFFERED': 'TRUE', 'CANONICAL_ENVROOT': '/opt/amazon', 'LD_LIBRARY_PATH': '/opt/amazon/lib/python2.7/site-packages/cv2/../../../../lib:/usr/local/nvidia/lib64:/opt/amazon/lib', 'LANG': 'en_US.utf8', 'DMLC_INTERFACE': 'ethwe', 'SHLVL': '1', 'AWS_REGION': 'us-west-1', 'NVIDIA_VISIBLE_DEVICES': 'all', 'TRAINING_JOB_NAME': 'pca-2019-03-08-00-07-38-756', 'PROTOCOL_BUFFERS_PYTHON_IMPLEMENTATION': 'cpp', 'ENVROOT': '/opt/amazon', 'SAGEMAKER_DATA_PATH': '/opt/ml', 'NVIDIA_DRIVER_CAPABILITIES': 'compute,utility', 'NVIDIA_REQUIRE_CUDA': 'cuda>=9.0', 'OMP_NUM_THREADS': '2', 'HOSTNAME': 'aws', 'AWS_CONTAINER_CREDENTIALS_RELATIVE_URI': '/v2/credentials/fd52a26a-7953-4a81-9ad0-e1f45c63a04b', 'PWD': '/', 'AWS_EXECUTION_ENV': 'AWS_ECS_EC2'}\u001b[0m\n",
            "\u001b[31m[03/08/2019 00:10:18 INFO 140212411717440] envs={'ECS_CONTAINER_METADATA_URI': 'http://169.254.170.2/v3/2a343c78-c2c7-48e8-bf1d-79ad865e5656', 'PROTOCOL_BUFFERS_PYTHON_IMPLEMENTATION_VERSION': '2', 'DMLC_NUM_WORKER': '1', 'DMLC_PS_ROOT_PORT': '9000', 'PATH': '/opt/amazon/bin:/usr/local/nvidia/bin:/usr/local/sbin:/usr/local/bin:/usr/sbin:/usr/bin:/sbin:/bin:/opt/amazon/bin:/opt/amazon/bin', 'SAGEMAKER_HTTP_PORT': '8080', 'HOME': '/root', 'PYTHONUNBUFFERED': 'TRUE', 'CANONICAL_ENVROOT': '/opt/amazon', 'LD_LIBRARY_PATH': '/opt/amazon/lib/python2.7/site-packages/cv2/../../../../lib:/usr/local/nvidia/lib64:/opt/amazon/lib', 'LANG': 'en_US.utf8', 'DMLC_INTERFACE': 'ethwe', 'SHLVL': '1', 'DMLC_PS_ROOT_URI': '10.32.0.4', 'AWS_REGION': 'us-west-1', 'NVIDIA_VISIBLE_DEVICES': 'all', 'TRAINING_JOB_NAME': 'pca-2019-03-08-00-07-38-756', 'PROTOCOL_BUFFERS_PYTHON_IMPLEMENTATION': 'cpp', 'ENVROOT': '/opt/amazon', 'SAGEMAKER_DATA_PATH': '/opt/ml', 'NVIDIA_DRIVER_CAPABILITIES': 'compute,utility', 'NVIDIA_REQUIRE_CUDA': 'cuda>=9.0', 'OMP_NUM_THREADS': '2', 'HOSTNAME': 'aws', 'AWS_CONTAINER_CREDENTIALS_RELATIVE_URI': '/v2/credentials/fd52a26a-7953-4a81-9ad0-e1f45c63a04b', 'DMLC_ROLE': 'scheduler', 'PWD': '/', 'DMLC_NUM_SERVER': '1', 'AWS_EXECUTION_ENV': 'AWS_ECS_EC2'}\u001b[0m\n",
            "\u001b[31m[03/08/2019 00:10:18 INFO 140212411717440] Launching parameter server for role server\u001b[0m\n",
            "\u001b[31m[03/08/2019 00:10:18 INFO 140212411717440] {'ECS_CONTAINER_METADATA_URI': 'http://169.254.170.2/v3/2a343c78-c2c7-48e8-bf1d-79ad865e5656', 'PROTOCOL_BUFFERS_PYTHON_IMPLEMENTATION_VERSION': '2', 'PATH': '/opt/amazon/bin:/usr/local/nvidia/bin:/usr/local/sbin:/usr/local/bin:/usr/sbin:/usr/bin:/sbin:/bin:/opt/amazon/bin:/opt/amazon/bin', 'SAGEMAKER_HTTP_PORT': '8080', 'HOME': '/root', 'PYTHONUNBUFFERED': 'TRUE', 'CANONICAL_ENVROOT': '/opt/amazon', 'LD_LIBRARY_PATH': '/opt/amazon/lib/python2.7/site-packages/cv2/../../../../lib:/usr/local/nvidia/lib64:/opt/amazon/lib', 'LANG': 'en_US.utf8', 'DMLC_INTERFACE': 'ethwe', 'SHLVL': '1', 'AWS_REGION': 'us-west-1', 'NVIDIA_VISIBLE_DEVICES': 'all', 'TRAINING_JOB_NAME': 'pca-2019-03-08-00-07-38-756', 'PROTOCOL_BUFFERS_PYTHON_IMPLEMENTATION': 'cpp', 'ENVROOT': '/opt/amazon', 'SAGEMAKER_DATA_PATH': '/opt/ml', 'NVIDIA_DRIVER_CAPABILITIES': 'compute,utility', 'NVIDIA_REQUIRE_CUDA': 'cuda>=9.0', 'OMP_NUM_THREADS': '2', 'HOSTNAME': 'aws', 'AWS_CONTAINER_CREDENTIALS_RELATIVE_URI': '/v2/credentials/fd52a26a-7953-4a81-9ad0-e1f45c63a04b', 'PWD': '/', 'AWS_EXECUTION_ENV': 'AWS_ECS_EC2'}\u001b[0m\n",
            "\u001b[31m[03/08/2019 00:10:18 INFO 140212411717440] envs={'ECS_CONTAINER_METADATA_URI': 'http://169.254.170.2/v3/2a343c78-c2c7-48e8-bf1d-79ad865e5656', 'PROTOCOL_BUFFERS_PYTHON_IMPLEMENTATION_VERSION': '2', 'DMLC_NUM_WORKER': '1', 'DMLC_PS_ROOT_PORT': '9000', 'PATH': '/opt/amazon/bin:/usr/local/nvidia/bin:/usr/local/sbin:/usr/local/bin:/usr/sbin:/usr/bin:/sbin:/bin:/opt/amazon/bin:/opt/amazon/bin', 'SAGEMAKER_HTTP_PORT': '8080', 'HOME': '/root', 'PYTHONUNBUFFERED': 'TRUE', 'CANONICAL_ENVROOT': '/opt/amazon', 'LD_LIBRARY_PATH': '/opt/amazon/lib/python2.7/site-packages/cv2/../../../../lib:/usr/local/nvidia/lib64:/opt/amazon/lib', 'LANG': 'en_US.utf8', 'DMLC_INTERFACE': 'ethwe', 'SHLVL': '1', 'DMLC_PS_ROOT_URI': '10.32.0.4', 'AWS_REGION': 'us-west-1', 'NVIDIA_VISIBLE_DEVICES': 'all', 'TRAINING_JOB_NAME': 'pca-2019-03-08-00-07-38-756', 'PROTOCOL_BUFFERS_PYTHON_IMPLEMENTATION': 'cpp', 'ENVROOT': '/opt/amazon', 'SAGEMAKER_DATA_PATH': '/opt/ml', 'NVIDIA_DRIVER_CAPABILITIES': 'compute,utility', 'NVIDIA_REQUIRE_CUDA': 'cuda>=9.0', 'OMP_NUM_THREADS': '2', 'HOSTNAME': 'aws', 'AWS_CONTAINER_CREDENTIALS_RELATIVE_URI': '/v2/credentials/fd52a26a-7953-4a81-9ad0-e1f45c63a04b', 'DMLC_ROLE': 'server', 'PWD': '/', 'DMLC_NUM_SERVER': '1', 'AWS_EXECUTION_ENV': 'AWS_ECS_EC2'}\u001b[0m\n",
            "\u001b[31m[03/08/2019 00:10:18 INFO 140212411717440] Environment: {'ECS_CONTAINER_METADATA_URI': 'http://169.254.170.2/v3/2a343c78-c2c7-48e8-bf1d-79ad865e5656', 'PROTOCOL_BUFFERS_PYTHON_IMPLEMENTATION_VERSION': '2', 'DMLC_PS_ROOT_PORT': '9000', 'DMLC_NUM_WORKER': '1', 'SAGEMAKER_HTTP_PORT': '8080', 'PATH': '/opt/amazon/bin:/usr/local/nvidia/bin:/usr/local/sbin:/usr/local/bin:/usr/sbin:/usr/bin:/sbin:/bin:/opt/amazon/bin:/opt/amazon/bin', 'PYTHONUNBUFFERED': 'TRUE', 'CANONICAL_ENVROOT': '/opt/amazon', 'LD_LIBRARY_PATH': '/opt/amazon/lib/python2.7/site-packages/cv2/../../../../lib:/usr/local/nvidia/lib64:/opt/amazon/lib', 'LANG': 'en_US.utf8', 'DMLC_INTERFACE': 'ethwe', 'SHLVL': '1', 'DMLC_PS_ROOT_URI': '10.32.0.4', 'AWS_REGION': 'us-west-1', 'NVIDIA_VISIBLE_DEVICES': 'all', 'TRAINING_JOB_NAME': 'pca-2019-03-08-00-07-38-756', 'HOME': '/root', 'PROTOCOL_BUFFERS_PYTHON_IMPLEMENTATION': 'cpp', 'ENVROOT': '/opt/amazon', 'SAGEMAKER_DATA_PATH': '/opt/ml', 'NVIDIA_DRIVER_CAPABILITIES': 'compute,utility', 'NVIDIA_REQUIRE_CUDA': 'cuda>=9.0', 'OMP_NUM_THREADS': '2', 'HOSTNAME': 'aws', 'AWS_CONTAINER_CREDENTIALS_RELATIVE_URI': '/v2/credentials/fd52a26a-7953-4a81-9ad0-e1f45c63a04b', 'DMLC_ROLE': 'worker', 'PWD': '/', 'DMLC_NUM_SERVER': '1', 'AWS_EXECUTION_ENV': 'AWS_ECS_EC2'}\u001b[0m\n",
            "\u001b[31mProcess 64 is a shell:scheduler.\u001b[0m\n",
            "\u001b[31mProcess 73 is a shell:server.\u001b[0m\n",
            "\u001b[31mProcess 1 is a worker.\u001b[0m\n",
            "\u001b[31m[03/08/2019 00:10:18 INFO 140212411717440] Using default worker.\u001b[0m\n",
            "\u001b[31m[03/08/2019 00:10:18 INFO 140212411717440] Loaded iterator creator application/x-recordio-protobuf for content type ('application/x-recordio-protobuf', '1.0')\u001b[0m\n",
            "\u001b[31m[03/08/2019 00:10:18 INFO 140212411717440] Loaded iterator creator application/x-labeled-vector-protobuf for content type ('application/x-labeled-vector-protobuf', '1.0')\u001b[0m\n",
            "\u001b[31m[03/08/2019 00:10:18 INFO 140212411717440] Loaded iterator creator protobuf for content type ('protobuf', '1.0')\u001b[0m\n",
            "\u001b[31m[2019-03-08 00:10:18.824] [tensorio] [info] batch={\"data_pipeline\": \"/opt/ml/input/data/train\", \"num_examples\": 500, \"features\": [{\"name\": \"values\", \"shape\": [34], \"storage_type\": \"dense\"}]}\u001b[0m\n",
            "\u001b[31m[03/08/2019 00:10:18 INFO 140212411717440] Create Store: dist_sync\u001b[0m\n",
            "\u001b[31m[03/08/2019 00:10:19 INFO 140212411717440] nvidia-smi took: 0.0251801013947 secs to identify 0 gpus\u001b[0m\n",
            "\u001b[31m[03/08/2019 00:10:19 INFO 140212411717440] Number of GPUs being used: 0\u001b[0m\n",
            "\u001b[31m[03/08/2019 00:10:19 INFO 140212411717440] The default executor is <PCAExecutor on cpu(0)>.\u001b[0m\n",
            "\u001b[31m[03/08/2019 00:10:19 INFO 140212411717440] 34 feature(s) found in 'data'.\u001b[0m\n",
            "\u001b[31m[03/08/2019 00:10:19 INFO 140212411717440] <PCAExecutor on cpu(0)> is assigned to batch slice from 0 to 499.\u001b[0m\n",
            "\u001b[31m#metrics {\"Metrics\": {\"initialize.time\": {\"count\": 1, \"max\": 594.7449207305908, \"sum\": 594.7449207305908, \"min\": 594.7449207305908}}, \"EndTime\": 1552003819.421476, \"Dimensions\": {\"Host\": \"algo-1\", \"Operation\": \"training\", \"Algorithm\": \"PCA\"}, \"StartTime\": 1552003818.822317}\n",
            "\u001b[0m\n",
            "\u001b[31m#metrics {\"Metrics\": {\"Max Batches Seen Between Resets\": {\"count\": 1, \"max\": 0, \"sum\": 0.0, \"min\": 0}, \"Number of Batches Since Last Reset\": {\"count\": 1, \"max\": 0, \"sum\": 0.0, \"min\": 0}, \"Number of Records Since Last Reset\": {\"count\": 1, \"max\": 0, \"sum\": 0.0, \"min\": 0}, \"Total Batches Seen\": {\"count\": 1, \"max\": 0, \"sum\": 0.0, \"min\": 0}, \"Total Records Seen\": {\"count\": 1, \"max\": 0, \"sum\": 0.0, \"min\": 0}, \"Max Records Seen Between Resets\": {\"count\": 1, \"max\": 0, \"sum\": 0.0, \"min\": 0}, \"Reset Count\": {\"count\": 1, \"max\": 0, \"sum\": 0.0, \"min\": 0}}, \"EndTime\": 1552003819.421682, \"Dimensions\": {\"Host\": \"algo-1\", \"Meta\": \"init_train_data_iter\", \"Operation\": \"training\", \"Algorithm\": \"PCA\"}, \"StartTime\": 1552003819.421629}\n",
            "\u001b[0m\n",
            "\u001b[31m[2019-03-08 00:10:19.421] [tensorio] [info] data_pipeline_stats={\"name\": \"/opt/ml/input/data/train\", \"epoch\": 0, \"duration\": 597, \"num_examples\": 1}\u001b[0m\n",
            "\u001b[31m#metrics {\"Metrics\": {\"epochs\": {\"count\": 1, \"max\": 1, \"sum\": 1.0, \"min\": 1}, \"update.time\": {\"count\": 1, \"max\": 36.4680290222168, \"sum\": 36.4680290222168, \"min\": 36.4680290222168}}, \"EndTime\": 1552003819.458467, \"Dimensions\": {\"Host\": \"algo-1\", \"Operation\": \"training\", \"Algorithm\": \"PCA\"}, \"StartTime\": 1552003819.42157}\n",
            "\u001b[0m\n",
            "\u001b[31m[03/08/2019 00:10:19 INFO 140212411717440] #progress_metric: host=algo-1, completed 100 % of epochs\u001b[0m\n",
            "\u001b[31m#metrics {\"Metrics\": {\"Max Batches Seen Between Resets\": {\"count\": 1, \"max\": 7, \"sum\": 7.0, \"min\": 7}, \"Number of Batches Since Last Reset\": {\"count\": 1, \"max\": 7, \"sum\": 7.0, \"min\": 7}, \"Number of Records Since Last Reset\": {\"count\": 1, \"max\": 3218, \"sum\": 3218.0, \"min\": 3218}, \"Total Batches Seen\": {\"count\": 1, \"max\": 7, \"sum\": 7.0, \"min\": 7}, \"Total Records Seen\": {\"count\": 1, \"max\": 3218, \"sum\": 3218.0, \"min\": 3218}, \"Max Records Seen Between Resets\": {\"count\": 1, \"max\": 3218, \"sum\": 3218.0, \"min\": 3218}, \"Reset Count\": {\"count\": 1, \"max\": 1, \"sum\": 1.0, \"min\": 1}}, \"EndTime\": 1552003819.458807, \"Dimensions\": {\"Host\": \"algo-1\", \"Meta\": \"training_data_iter\", \"Operation\": \"training\", \"Algorithm\": \"PCA\", \"epoch\": 0}, \"StartTime\": 1552003819.421963}\n",
            "\u001b[0m\n",
            "\u001b[31m[03/08/2019 00:10:19 INFO 140212411717440] #throughput_metric: host=algo-1, train throughput=87029.1914449 records/second\u001b[0m\n",
            "\u001b[31m#metrics {\"Metrics\": {\"finalize.time\": {\"count\": 1, \"max\": 19.690990447998047, \"sum\": 19.690990447998047, \"min\": 19.690990447998047}}, \"EndTime\": 1552003819.478824, \"Dimensions\": {\"Host\": \"algo-1\", \"Operation\": \"training\", \"Algorithm\": \"PCA\"}, \"StartTime\": 1552003819.458559}\n",
            "\u001b[0m\n",
            "\u001b[31m[03/08/2019 00:10:19 INFO 140212411717440] Test data is not provided.\u001b[0m\n",
            "\u001b[31m[2019-03-08 00:10:19.483] [tensorio] [info] data_pipeline_stats={\"name\": \"/opt/ml/input/data/train\", \"epoch\": 1, \"duration\": 54, \"num_examples\": 7}\u001b[0m\n",
            "\u001b[31m[2019-03-08 00:10:19.483] [tensorio] [info] data_pipeline_stats={\"name\": \"/opt/ml/input/data/train\", \"duration\": 651, \"num_epochs\": 2, \"num_examples\": 8}\u001b[0m\n",
            "\u001b[31m#metrics {\"Metrics\": {\"totaltime\": {\"count\": 1, \"max\": 800.2028465270996, \"sum\": 800.2028465270996, \"min\": 800.2028465270996}, \"setuptime\": {\"count\": 1, \"max\": 41.87488555908203, \"sum\": 41.87488555908203, \"min\": 41.87488555908203}}, \"EndTime\": 1552003819.483391, \"Dimensions\": {\"Host\": \"algo-1\", \"Operation\": \"training\", \"Algorithm\": \"PCA\"}, \"StartTime\": 1552003819.478877}\n",
            "\u001b[0m\n",
            "\n",
            "2019-03-08 00:10:27 Training - Training image download completed. Training in progress.\n",
            "2019-03-08 00:10:27 Uploading - Uploading generated training model\n",
            "2019-03-08 00:10:27 Completed - Training job completed\n",
            "Billable seconds: 23\n",
            "CPU times: user 360 ms, sys: 18.5 ms, total: 379 ms\n",
            "Wall time: 3min 11s\n"
          ],
          "name": "stdout"
        }
      ]
    },
    {
      "cell_type": "markdown",
      "metadata": {
        "id": "gBKYGPBbQJNz",
        "colab_type": "text"
      },
      "source": [
        "## Model and data Unzipping"
      ]
    },
    {
      "cell_type": "code",
      "metadata": {
        "id": "QjH1FDoPQJN1",
        "colab_type": "code",
        "colab": {},
        "outputId": "6be8a4c9-9d9f-4501-e876-a404384aac28"
      },
      "source": [
        "# Get the name of the training job, it's suggested that you copy-paste\n",
        "# from the notebook or from a specific job in the AWS console\n",
        "training_job_name='pca-2019-03-07-22-53-18-299'\n",
        "\n",
        "# where the model is saved, by default\n",
        "model_key = os.path.join(prefix, training_job_name, 'output/model.tar.gz')\n",
        "print(model_key)\n",
        "\n",
        "# download and unzip model\n",
        "boto3.resource('s3').Bucket(bucket_name).download_file(model_key, 'model.tar.gz')\n",
        "\n",
        "# unzipping as model_algo-1\n",
        "os.system('tar -zxvf model.tar.gz')\n",
        "os.system('unzip model_algo-1')"
      ],
      "execution_count": null,
      "outputs": [
        {
          "output_type": "stream",
          "text": [
            "counties/pca-2019-03-07-22-53-18-299/output/model.tar.gz\n"
          ],
          "name": "stdout"
        },
        {
          "output_type": "execute_result",
          "data": {
            "text/plain": [
              "2304"
            ]
          },
          "metadata": {
            "tags": []
          },
          "execution_count": 24
        }
      ]
    },
    {
      "cell_type": "markdown",
      "metadata": {
        "id": "dua8pzsyQJN5",
        "colab_type": "text"
      },
      "source": [
        ""
      ]
    },
    {
      "cell_type": "code",
      "metadata": {
        "id": "QhpIy2_pQJN5",
        "colab_type": "code",
        "colab": {},
        "outputId": "2b29c464-deda-4059-f1c9-7e7cff71883c"
      },
      "source": [
        "import mxnet as mx\n",
        "\n",
        "# loading the unzipped artifacts\n",
        "pca_model_params = mx.ndarray.load('model_algo-1')\n",
        "\n",
        "# what are the params\n",
        "print(pca_model_params)"
      ],
      "execution_count": null,
      "outputs": [
        {
          "output_type": "stream",
          "text": [
            "{'s': \n",
            "[1.7896362e-02 3.0864021e-02 3.2130770e-02 3.5486195e-02 9.4831578e-02\n",
            " 1.2699370e-01 4.0288666e-01 1.4084760e+00 1.5100485e+00 1.5957943e+00\n",
            " 1.7783760e+00 2.1662524e+00 2.2966361e+00 2.3856051e+00 2.6954880e+00\n",
            " 2.8067985e+00 3.0175958e+00 3.3952675e+00 3.5731301e+00 3.6966958e+00\n",
            " 4.1890211e+00 4.3457499e+00 4.5410376e+00 5.0189657e+00 5.5786467e+00\n",
            " 5.9809699e+00 6.3925138e+00 7.6952214e+00 7.9913125e+00 1.0180052e+01\n",
            " 1.1718245e+01 1.3035975e+01 1.9592180e+01]\n",
            "<NDArray 33 @cpu(0)>, 'v': \n",
            "[[ 2.46869749e-03  2.56468095e-02  2.50773830e-03 ... -7.63925165e-02\n",
            "   1.59879066e-02  5.04589686e-03]\n",
            " [-2.80601848e-02 -6.86634064e-01 -1.96283013e-02 ... -7.59587288e-02\n",
            "   1.57304872e-02  4.95312130e-03]\n",
            " [ 3.25766727e-02  7.17300594e-01  2.40726061e-02 ... -7.68136829e-02\n",
            "   1.62378680e-02  5.13597298e-03]\n",
            " ...\n",
            " [ 1.12151138e-01 -1.17030945e-02 -2.88011521e-01 ...  1.39890045e-01\n",
            "  -3.09406728e-01 -6.34506866e-02]\n",
            " [ 2.99992133e-02 -3.13433539e-03 -7.63589665e-02 ...  4.17341813e-02\n",
            "  -7.06735924e-02 -1.42857227e-02]\n",
            " [ 7.33537527e-05  3.01008171e-04 -8.00925500e-06 ...  6.97060227e-02\n",
            "   1.20169498e-01  2.33626723e-01]]\n",
            "<NDArray 34x33 @cpu(0)>, 'mean': \n",
            "[[0.00988273 0.00986636 0.00989863 0.11017046 0.7560245  0.10094159\n",
            "  0.0186819  0.02940491 0.0064698  0.01154038 0.31539047 0.1222766\n",
            "  0.3030056  0.08220861 0.256217   0.2964254  0.28914267 0.40191284\n",
            "  0.57868284 0.2854676  0.28294644 0.82774544 0.34378946 0.01576072\n",
            "  0.04649627 0.04115358 0.12442778 0.47014    0.00980645 0.7608103\n",
            "  0.19442631 0.21674445 0.0294168  0.22177474]]\n",
            "<NDArray 1x34 @cpu(0)>}\n"
          ],
          "name": "stdout"
        }
      ]
    },
    {
      "cell_type": "markdown",
      "metadata": {
        "id": "CInqVyYAQJN8",
        "colab_type": "text"
      },
      "source": [
        "\n"
      ]
    },
    {
      "cell_type": "code",
      "metadata": {
        "id": "NwS60KO-QJN-",
        "colab_type": "code",
        "colab": {}
      },
      "source": [
        "# get selected params\n",
        "s=pd.DataFrame(pca_model_params['s'].asnumpy())\n",
        "v=pd.DataFrame(pca_model_params['v'].asnumpy())"
      ],
      "execution_count": null,
      "outputs": []
    },
    {
      "cell_type": "markdown",
      "metadata": {
        "id": "w21tVtxTQJOF",
        "colab_type": "text"
      },
      "source": [
        ""
      ]
    },
    {
      "cell_type": "markdown",
      "metadata": {
        "id": "CzzvZ4eQQJOG",
        "colab_type": "text"
      },
      "source": [
        "**Note**: The _top_ principal components, with the largest s values, are actually at the end of the s DataFrame. Let's print out the s values for the top n, principal components."
      ]
    },
    {
      "cell_type": "code",
      "metadata": {
        "id": "E_1wkrViQJOH",
        "colab_type": "code",
        "colab": {},
        "outputId": "5c615d57-81ba-47d9-ee5f-a7a91e3a7907"
      },
      "source": [
        "# looking at top 5 components\n",
        "n_principal_components = 5\n",
        "\n",
        "start_idx = N_COMPONENTS - n_principal_components  # 33-n\n",
        "\n",
        "# print a selection of s\n",
        "print(s.iloc[start_idx:, :])"
      ],
      "execution_count": null,
      "outputs": [
        {
          "output_type": "stream",
          "text": [
            "            0\n",
            "28   7.991313\n",
            "29  10.180052\n",
            "30  11.718245\n",
            "31  13.035975\n",
            "32  19.592180\n"
          ],
          "name": "stdout"
        }
      ]
    },
    {
      "cell_type": "markdown",
      "metadata": {
        "id": "0UKjB-YWQJOM",
        "colab_type": "text"
      },
      "source": [
        "### Calculating variance\n",
        "\n"
      ]
    },
    {
      "cell_type": "code",
      "metadata": {
        "id": "qQKXcjoiQJOP",
        "colab_type": "code",
        "colab": {}
      },
      "source": [
        "# Calculate the explained variance for the top n principal components\n",
        "# you may assume you have access to the global var N_COMPONENTS\n",
        "def explained_variance(s, n_top_components):\n",
        "    '''Calculates the approx. data variance that n_top_components captures.\n",
        "       :param s: A dataframe of singular values for top components; \n",
        "           the top value is in the last row.\n",
        "       :param n_top_components: An integer, the number of top components to use.\n",
        "       :return: The expected data variance covered by the n_top_components.'''\n",
        "    \n",
        "    start_idx = N_COMPONENTS - n_top_components  ## 33-3 = 30, for example\n",
        "    # calculate approx variance\n",
        "    exp_variance = np.square(s.iloc[start_idx:,:]).sum()/np.square(s).sum()\n",
        "    \n",
        "    return exp_variance[0]\n"
      ],
      "execution_count": null,
      "outputs": []
    },
    {
      "cell_type": "code",
      "metadata": {
        "id": "xKMJQfVIQJOT",
        "colab_type": "code",
        "colab": {},
        "outputId": "2c90f58c-8be4-45eb-9d1a-b1b116f39bc2"
      },
      "source": [
        "# test cell\n",
        "n_top_components = 7 # select a value for the number of top components\n",
        "\n",
        "# calculate the explained variance\n",
        "exp_variance = explained_variance(s, n_top_components)\n",
        "print('Explained variance: ', exp_variance)"
      ],
      "execution_count": null,
      "outputs": [
        {
          "output_type": "stream",
          "text": [
            "Explained variance:  0.80167246\n"
          ],
          "name": "stdout"
        }
      ]
    },
    {
      "cell_type": "code",
      "metadata": {
        "id": "LK5B4pl0QJOZ",
        "colab_type": "code",
        "colab": {},
        "outputId": "a54f6457-5c24-4be8-9bab-e441d5ee66e3"
      },
      "source": [
        "# features\n",
        "features_list = counties_scaled.columns.values\n",
        "print('Features: \\n', features_list)"
      ],
      "execution_count": null,
      "outputs": [
        {
          "output_type": "stream",
          "text": [
            "Features: \n",
            " ['TotalPop' 'Men' 'Women' 'Hispanic' 'White' 'Black' 'Native' 'Asian'\n",
            " 'Pacific' 'Citizen' 'Income' 'IncomeErr' 'IncomePerCap' 'IncomePerCapErr'\n",
            " 'Poverty' 'ChildPoverty' 'Professional' 'Service' 'Office' 'Construction'\n",
            " 'Production' 'Drive' 'Carpool' 'Transit' 'Walk' 'OtherTransp'\n",
            " 'WorkAtHome' 'MeanCommute' 'Employed' 'PrivateWork' 'PublicWork'\n",
            " 'SelfEmployed' 'FamilyWork' 'Unemployment']\n"
          ],
          "name": "stdout"
        }
      ]
    },
    {
      "cell_type": "markdown",
      "metadata": {
        "id": "DjzaQ6F8QJOd",
        "colab_type": "text"
      },
      "source": [
        "## Uncovering Model attributes."
      ]
    },
    {
      "cell_type": "code",
      "metadata": {
        "id": "I7jHlSg_QJOd",
        "colab_type": "code",
        "colab": {}
      },
      "source": [
        "import seaborn as sns\n",
        "\n",
        "def display_component(v, features_list, component_num, n_weights=10):\n",
        "    \n",
        "    # get index of component (last row - component_num)\n",
        "    row_idx = N_COMPONENTS-component_num\n",
        "\n",
        "    # get the list of weights from a row in v, dataframe\n",
        "    v_1_row = v.iloc[:, row_idx]\n",
        "    v_1 = np.squeeze(v_1_row.values)\n",
        "\n",
        "    # match weights to features in counties_scaled dataframe, using list comporehension\n",
        "    comps = pd.DataFrame(list(zip(v_1, features_list)), \n",
        "                         columns=['weights', 'features'])\n",
        "\n",
        "    # we'll want to sort by the largest n_weights\n",
        "    # weights can be neg/pos and we'll sort by magnitude\n",
        "    comps['abs_weights']=comps['weights'].apply(lambda x: np.abs(x))\n",
        "    sorted_weight_data = comps.sort_values('abs_weights', ascending=False).head(n_weights)\n",
        "\n",
        "    # display using seaborn\n",
        "    ax=plt.subplots(figsize=(10,6))\n",
        "    ax=sns.barplot(data=sorted_weight_data, \n",
        "                   x=\"weights\", \n",
        "                   y=\"features\", \n",
        "                   palette=\"Blues_d\")\n",
        "    ax.set_title(\"PCA Component Makeup, Component #\" + str(component_num))\n",
        "    plt.show()\n"
      ],
      "execution_count": null,
      "outputs": []
    },
    {
      "cell_type": "code",
      "metadata": {
        "id": "4CyRFvH1QJOk",
        "colab_type": "code",
        "colab": {},
        "outputId": "af1587ff-4b66-4c47-f525-c597142976c1"
      },
      "source": [
        "# display makeup of first component\n",
        "num=2\n",
        "display_component(v, counties_scaled.columns.values, component_num=num, n_weights=10)"
      ],
      "execution_count": null,
      "outputs": [
        {
          "output_type": "display_data",
          "data": {
            "image/png": "[encoded data removed]",
            "text/plain": [
              "<Figure size 720x432 with 1 Axes>"
            ]
          },
          "metadata": {
            "tags": []
          }
        }
      ]
    },
    {
      "cell_type": "markdown",
      "metadata": {
        "id": "vIMXJ50UQJOp",
        "colab_type": "text"
      },
      "source": [
        "# Running PCA"
      ]
    },
    {
      "cell_type": "code",
      "metadata": {
        "id": "ju3Iyc-0QJOq",
        "colab_type": "code",
        "colab": {},
        "outputId": "b4c867ad-b198-4efb-a82b-9c52f3b359d9"
      },
      "source": [
        "%%time\n",
        "# this takes a little while, around 7mins\n",
        "pca_predictor = pca_SM.deploy(initial_instance_count=1, \n",
        "                              instance_type='ml.t2.medium')"
      ],
      "execution_count": null,
      "outputs": [
        {
          "output_type": "stream",
          "text": [
            "INFO:sagemaker:Creating model with name: pca-2019-03-08-00-12-08-382\n",
            "INFO:sagemaker:Creating endpoint with name pca-2019-03-08-00-07-38-756\n"
          ],
          "name": "stderr"
        },
        {
          "output_type": "stream",
          "text": [
            "--------------------------------------------------------------------------!CPU times: user 362 ms, sys: 36.5 ms, total: 398 ms\n",
            "Wall time: 6min 15s\n"
          ],
          "name": "stdout"
        }
      ]
    },
    {
      "cell_type": "markdown",
      "metadata": {
        "id": "pvBK0KwcQJOv",
        "colab_type": "text"
      },
      "source": [
        "We can pass the original, numpy dataset to the model and transform the data using the model we created. Then we can take the largest n components to reduce the dimensionality of our data."
      ]
    },
    {
      "cell_type": "code",
      "metadata": {
        "id": "SKejlgEmQJOw",
        "colab_type": "code",
        "colab": {}
      },
      "source": [
        "# pass np train data to the PCA model\n",
        "train_pca = pca_predictor.predict(train_data_np)"
      ],
      "execution_count": null,
      "outputs": []
    },
    {
      "cell_type": "code",
      "metadata": {
        "id": "pkZ_YT6aQJO2",
        "colab_type": "code",
        "colab": {},
        "outputId": "836c18c8-5fc6-4d4d-ad76-e7bfd5b3de71"
      },
      "source": [
        "# check out the first item in the produced training features\n",
        "data_idx = 0\n",
        "print(train_pca[data_idx])"
      ],
      "execution_count": null,
      "outputs": [
        {
          "output_type": "stream",
          "text": [
            "label {\n",
            "  key: \"projection\"\n",
            "  value {\n",
            "    float32_tensor {\n",
            "      values: 0.0002009272575378418\n",
            "      values: 0.0002455431967973709\n",
            "      values: -0.0005782842636108398\n",
            "      values: -0.0007815659046173096\n",
            "      values: -0.00041911262087523937\n",
            "      values: -0.0005133943632245064\n",
            "      values: -0.0011316537857055664\n",
            "      values: 0.0017268601804971695\n",
            "      values: -0.005361668765544891\n",
            "      values: -0.009066537022590637\n",
            "      values: -0.008141040802001953\n",
            "      values: -0.004735097289085388\n",
            "      values: -0.00716288760304451\n",
            "      values: 0.0003725700080394745\n",
            "      values: -0.01208949089050293\n",
            "      values: 0.02134685218334198\n",
            "      values: 0.0009293854236602783\n",
            "      values: 0.002417147159576416\n",
            "      values: -0.0034637749195098877\n",
            "      values: 0.01794189214706421\n",
            "      values: -0.01639425754547119\n",
            "      values: 0.06260128319263458\n",
            "      values: 0.06637358665466309\n",
            "      values: 0.002479255199432373\n",
            "      values: 0.10011336207389832\n",
            "      values: -0.1136140376329422\n",
            "      values: 0.02589476853609085\n",
            "      values: 0.04045158624649048\n",
            "      values: -0.01082391943782568\n",
            "      values: 0.1204797774553299\n",
            "      values: -0.0883558839559555\n",
            "      values: 0.16052711009979248\n",
            "      values: -0.06027412414550781\n",
            "    }\n",
            "  }\n",
            "}\n",
            "\n"
          ],
          "name": "stdout"
        }
      ]
    },
    {
      "cell_type": "code",
      "metadata": {
        "id": "wXkVjKtlQJO7",
        "colab_type": "code",
        "colab": {}
      },
      "source": [
        "# create dimensionality-reduced data\n",
        "def create_transformed_df(train_pca, counties_scaled, n_top_components):\n",
        "    ''' Return a dataframe of data points with component features. \n",
        "        The dataframe should be indexed by State-County and contain component values.\n",
        "        :param train_pca: A list of pca training data, returned by a PCA model.\n",
        "        :param counties_scaled: A dataframe of normalized, original features.\n",
        "        :param n_top_components: An integer, the number of top components to use.\n",
        "        :return: A dataframe, indexed by State-County, with n_top_component values as columns.        \n",
        "     '''\n",
        "    # create new dataframe to add data to\n",
        "    counties_transformed=pd.DataFrame()\n",
        "\n",
        "    # for each of our new, transformed data points\n",
        "    # append the component values to the dataframe\n",
        "    for data in train_pca:\n",
        "        # get component values for each data point\n",
        "        components=data.label['projection'].float32_tensor.values\n",
        "        counties_transformed=counties_transformed.append([list(components)])\n",
        "\n",
        "    # index by county, just like counties_scaled\n",
        "    counties_transformed.index=counties_scaled.index\n",
        "\n",
        "    # keep only the top n components\n",
        "    start_idx = N_COMPONENTS - n_top_components\n",
        "    counties_transformed = counties_transformed.iloc[:,start_idx:]\n",
        "    \n",
        "    # reverse columns, component order     \n",
        "    return counties_transformed.iloc[:, ::-1]\n",
        "    "
      ],
      "execution_count": null,
      "outputs": []
    },
    {
      "cell_type": "code",
      "metadata": {
        "id": "ID8707wZQJPF",
        "colab_type": "code",
        "colab": {},
        "outputId": "f4759f6f-01f2-4ebc-acf9-d5a8017617de"
      },
      "source": [
        "# specify top n\n",
        "top_n = 7\n",
        "\n",
        "# call your function and create a new dataframe\n",
        "counties_transformed = create_transformed_df(train_pca, counties_scaled, n_top_components=top_n)\n",
        "\n",
        "# add descriptive columns\n",
        "PCA_list=['c_1', 'c_2', 'c_3', 'c_4', 'c_5', 'c_6', 'c_7']\n",
        "counties_transformed.columns=PCA_list \n",
        "\n",
        "# print result\n",
        "counties_transformed.head()"
      ],
      "execution_count": null,
      "outputs": [
        {
          "output_type": "execute_result",
          "data": {
            "text/html": [
              "<div>\n",
              "<style scoped>\n",
              "    .dataframe tbody tr th:only-of-type {\n",
              "        vertical-align: middle;\n",
              "    }\n",
              "\n",
              "    .dataframe tbody tr th {\n",
              "        vertical-align: top;\n",
              "    }\n",
              "\n",
              "    .dataframe thead th {\n",
              "        text-align: right;\n",
              "    }\n",
              "</style>\n",
              "<table border=\"1\" class=\"dataframe\">\n",
              "  <thead>\n",
              "    <tr style=\"text-align: right;\">\n",
              "      <th></th>\n",
              "      <th>c_1</th>\n",
              "      <th>c_2</th>\n",
              "      <th>c_3</th>\n",
              "      <th>c_4</th>\n",
              "      <th>c_5</th>\n",
              "      <th>c_6</th>\n",
              "      <th>c_7</th>\n",
              "    </tr>\n",
              "  </thead>\n",
              "  <tbody>\n",
              "    <tr>\n",
              "      <th>Alabama-Autauga</th>\n",
              "      <td>-0.060274</td>\n",
              "      <td>0.160527</td>\n",
              "      <td>-0.088356</td>\n",
              "      <td>0.120480</td>\n",
              "      <td>-0.010824</td>\n",
              "      <td>0.040452</td>\n",
              "      <td>0.025895</td>\n",
              "    </tr>\n",
              "    <tr>\n",
              "      <th>Alabama-Baldwin</th>\n",
              "      <td>-0.149684</td>\n",
              "      <td>0.185969</td>\n",
              "      <td>-0.145743</td>\n",
              "      <td>-0.023092</td>\n",
              "      <td>-0.068677</td>\n",
              "      <td>0.051573</td>\n",
              "      <td>0.048137</td>\n",
              "    </tr>\n",
              "    <tr>\n",
              "      <th>Alabama-Barbour</th>\n",
              "      <td>0.506202</td>\n",
              "      <td>0.296662</td>\n",
              "      <td>0.146258</td>\n",
              "      <td>0.297829</td>\n",
              "      <td>0.093111</td>\n",
              "      <td>-0.065244</td>\n",
              "      <td>0.107730</td>\n",
              "    </tr>\n",
              "    <tr>\n",
              "      <th>Alabama-Bibb</th>\n",
              "      <td>0.069224</td>\n",
              "      <td>0.190861</td>\n",
              "      <td>0.224402</td>\n",
              "      <td>0.011757</td>\n",
              "      <td>0.283526</td>\n",
              "      <td>0.017874</td>\n",
              "      <td>-0.092053</td>\n",
              "    </tr>\n",
              "    <tr>\n",
              "      <th>Alabama-Blount</th>\n",
              "      <td>-0.091030</td>\n",
              "      <td>0.254403</td>\n",
              "      <td>0.022714</td>\n",
              "      <td>-0.193824</td>\n",
              "      <td>0.100738</td>\n",
              "      <td>0.209945</td>\n",
              "      <td>-0.005099</td>\n",
              "    </tr>\n",
              "  </tbody>\n",
              "</table>\n",
              "</div>"
            ],
            "text/plain": [
              "                      c_1       c_2       c_3       c_4       c_5       c_6  \\\n",
              "Alabama-Autauga -0.060274  0.160527 -0.088356  0.120480 -0.010824  0.040452   \n",
              "Alabama-Baldwin -0.149684  0.185969 -0.145743 -0.023092 -0.068677  0.051573   \n",
              "Alabama-Barbour  0.506202  0.296662  0.146258  0.297829  0.093111 -0.065244   \n",
              "Alabama-Bibb     0.069224  0.190861  0.224402  0.011757  0.283526  0.017874   \n",
              "Alabama-Blount  -0.091030  0.254403  0.022714 -0.193824  0.100738  0.209945   \n",
              "\n",
              "                      c_7  \n",
              "Alabama-Autauga  0.025895  \n",
              "Alabama-Baldwin  0.048137  \n",
              "Alabama-Barbour  0.107730  \n",
              "Alabama-Bibb    -0.092053  \n",
              "Alabama-Blount  -0.005099  "
            ]
          },
          "metadata": {
            "tags": []
          },
          "execution_count": 38
        }
      ]
    },
    {
      "cell_type": "markdown",
      "metadata": {
        "collapsed": true,
        "id": "qzNXmStnQJPL",
        "colab_type": "text"
      },
      "source": [
        "### Deleting Enpoint"
      ]
    },
    {
      "cell_type": "code",
      "metadata": {
        "id": "lst-DLuvQJPM",
        "colab_type": "code",
        "colab": {},
        "outputId": "37fa9068-92e8-4c99-9586-3ce5b2a55b93"
      },
      "source": [
        "# delete predictor endpoint\n",
        "session.delete_endpoint(pca_predictor.endpoint)"
      ],
      "execution_count": null,
      "outputs": [
        {
          "output_type": "stream",
          "text": [
            "INFO:sagemaker:Deleting endpoint with name: pca-2019-03-08-00-07-38-756\n"
          ],
          "name": "stderr"
        }
      ]
    },
    {
      "cell_type": "markdown",
      "metadata": {
        "id": "gOxrzSPKQJPV",
        "colab_type": "text"
      },
      "source": [
        ""
      ]
    },
    {
      "cell_type": "code",
      "metadata": {
        "id": "poekT0CkQJPa",
        "colab_type": "code",
        "colab": {}
      },
      "source": [
        "# define a KMeans estimator\n",
        "from sagemaker import KMeans\n",
        "\n",
        "NUM_CLUSTERS = 8\n",
        "\n",
        "kmeans = KMeans(role=role,\n",
        "                train_instance_count=1,\n",
        "                train_instance_type='ml.c4.xlarge',\n",
        "                output_path=output_path, # using the same output path as was defined, earlier              \n",
        "                k=NUM_CLUSTERS)\n"
      ],
      "execution_count": null,
      "outputs": []
    },
    {
      "cell_type": "code",
      "metadata": {
        "id": "qgpyUZsjQJPj",
        "colab_type": "code",
        "colab": {}
      },
      "source": [
        "# convert the transformed dataframe into record_set data\n",
        "kmeans_train_data_np = counties_transformed.values.astype('float32')\n",
        "kmeans_formatted_data = kmeans.record_set(kmeans_train_data_np)"
      ],
      "execution_count": null,
      "outputs": []
    },
    {
      "cell_type": "code",
      "metadata": {
        "id": "iL7rT-eGQJPp",
        "colab_type": "code",
        "colab": {},
        "outputId": "63a61067-d9da-423a-8339-89c8c6f256cc"
      },
      "source": [
        "%%time\n",
        "# train kmeans\n",
        "kmeans.fit(kmeans_formatted_data)"
      ],
      "execution_count": null,
      "outputs": [
        {
          "output_type": "stream",
          "text": [
            "INFO:sagemaker:Creating training-job with name: kmeans-2019-03-08-00-37-22-788\n"
          ],
          "name": "stderr"
        },
        {
          "output_type": "stream",
          "text": [
            "2019-03-08 00:37:22 Starting - Starting the training job...\n",
            "2019-03-08 00:37:27 Starting - Launching requested ML instances......\n",
            "2019-03-08 00:38:31 Starting - Preparing the instances for training......\n",
            "2019-03-08 00:39:53 Downloading - Downloading input data..\n",
            "\u001b[31mDocker entrypoint called with argument(s): train\u001b[0m\n",
            "\u001b[31m[03/08/2019 00:40:07 INFO 140021904598848] Reading default configuration from /opt/amazon/lib/python2.7/site-packages/algorithm/resources/default-input.json: {u'_enable_profiler': u'false', u'_tuning_objective_metric': u'', u'_num_gpus': u'auto', u'local_lloyd_num_trials': u'auto', u'_log_level': u'info', u'_kvstore': u'auto', u'local_lloyd_init_method': u'kmeans++', u'force_dense': u'true', u'epochs': u'1', u'init_method': u'random', u'local_lloyd_tol': u'0.0001', u'local_lloyd_max_iter': u'300', u'_disable_wait_to_read': u'false', u'extra_center_factor': u'auto', u'eval_metrics': u'[\"msd\"]', u'_num_kv_servers': u'1', u'mini_batch_size': u'5000', u'half_life_time_size': u'0', u'_num_slices': u'1'}\u001b[0m\n",
            "\u001b[31m[03/08/2019 00:40:07 INFO 140021904598848] Reading provided configuration from /opt/ml/input/config/hyperparameters.json: {u'feature_dim': u'7', u'k': u'8', u'force_dense': u'True'}\u001b[0m\n",
            "\u001b[31m[03/08/2019 00:40:07 INFO 140021904598848] Final configuration: {u'_tuning_objective_metric': u'', u'extra_center_factor': u'auto', u'local_lloyd_init_method': u'kmeans++', u'force_dense': u'True', u'epochs': u'1', u'feature_dim': u'7', u'local_lloyd_tol': u'0.0001', u'_disable_wait_to_read': u'false', u'eval_metrics': u'[\"msd\"]', u'_num_kv_servers': u'1', u'mini_batch_size': u'5000', u'_enable_profiler': u'false', u'_num_gpus': u'auto', u'local_lloyd_num_trials': u'auto', u'_log_level': u'info', u'init_method': u'random', u'half_life_time_size': u'0', u'local_lloyd_max_iter': u'300', u'_kvstore': u'auto', u'k': u'8', u'_num_slices': u'1'}\u001b[0m\n",
            "\u001b[31m[03/08/2019 00:40:07 WARNING 140021904598848] Loggers have already been setup.\u001b[0m\n",
            "\u001b[31mProcess 1 is a worker.\u001b[0m\n",
            "\u001b[31m[03/08/2019 00:40:07 INFO 140021904598848] Using default worker.\u001b[0m\n",
            "\u001b[31m[03/08/2019 00:40:07 INFO 140021904598848] Loaded iterator creator application/x-recordio-protobuf for content type ('application/x-recordio-protobuf', '1.0')\u001b[0m\n",
            "\u001b[31m[03/08/2019 00:40:07 INFO 140021904598848] Create Store: local\u001b[0m\n",
            "\u001b[31m[03/08/2019 00:40:07 INFO 140021904598848] nvidia-smi took: 0.0251669883728 secs to identify 0 gpus\u001b[0m\n",
            "\u001b[31m[03/08/2019 00:40:07 INFO 140021904598848] Number of GPUs being used: 0\u001b[0m\n",
            "\u001b[31m[2019-03-08 00:40:07.840] [tensorio] [info] batch={\"data_pipeline\": \"/opt/ml/input/data/train\", \"num_examples\": 5000, \"features\": [{\"name\": \"values\", \"shape\": [7], \"storage_type\": \"dense\"}]}\u001b[0m\n",
            "\u001b[31m[03/08/2019 00:40:07 INFO 140021904598848] Setting up with params: {u'_tuning_objective_metric': u'', u'extra_center_factor': u'auto', u'local_lloyd_init_method': u'kmeans++', u'force_dense': u'True', u'epochs': u'1', u'feature_dim': u'7', u'local_lloyd_tol': u'0.0001', u'_disable_wait_to_read': u'false', u'eval_metrics': u'[\"msd\"]', u'_num_kv_servers': u'1', u'mini_batch_size': u'5000', u'_enable_profiler': u'false', u'_num_gpus': u'auto', u'local_lloyd_num_trials': u'auto', u'_log_level': u'info', u'init_method': u'random', u'half_life_time_size': u'0', u'local_lloyd_max_iter': u'300', u'_kvstore': u'auto', u'k': u'8', u'_num_slices': u'1'}\u001b[0m\n",
            "\u001b[31m/opt/amazon/lib/python2.7/site-packages/ai_algorithms_sdk/config/config_helper.py:172: DeprecationWarning: deprecated\n",
            "  warnings.warn(\"deprecated\", DeprecationWarning)\u001b[0m\n",
            "\u001b[31m/opt/amazon/lib/python2.7/site-packages/ai_algorithms_sdk/config/config_helper.py:122: DeprecationWarning: deprecated\n",
            "  warnings.warn(\"deprecated\", DeprecationWarning)\u001b[0m\n",
            "\u001b[31m[03/08/2019 00:40:07 INFO 140021904598848] Number of GPUs being used: 0\u001b[0m\n",
            "\u001b[31m[03/08/2019 00:40:07 INFO 140021904598848] number of center slices 1\u001b[0m\n",
            "\u001b[31m[03/08/2019 00:40:07 WARNING 140021904598848] Batch size 5000 is bigger than the first batch data. Effective batch size used to initialize is 3218\u001b[0m\n",
            "\u001b[31m#metrics {\"Metrics\": {\"Max Batches Seen Between Resets\": {\"count\": 1, \"max\": 1, \"sum\": 1.0, \"min\": 1}, \"Number of Batches Since Last Reset\": {\"count\": 1, \"max\": 1, \"sum\": 1.0, \"min\": 1}, \"Number of Records Since Last Reset\": {\"count\": 1, \"max\": 3218, \"sum\": 3218.0, \"min\": 3218}, \"Total Batches Seen\": {\"count\": 1, \"max\": 1, \"sum\": 1.0, \"min\": 1}, \"Total Records Seen\": {\"count\": 1, \"max\": 3218, \"sum\": 3218.0, \"min\": 3218}, \"Max Records Seen Between Resets\": {\"count\": 1, \"max\": 3218, \"sum\": 3218.0, \"min\": 3218}, \"Reset Count\": {\"count\": 1, \"max\": 0, \"sum\": 0.0, \"min\": 0}}, \"EndTime\": 1552005607.862528, \"Dimensions\": {\"Host\": \"algo-1\", \"Meta\": \"init_train_data_iter\", \"Operation\": \"training\", \"Algorithm\": \"AWS/KMeansWebscale\"}, \"StartTime\": 1552005607.862476}\n",
            "\u001b[0m\n",
            "\u001b[31m[2019-03-08 00:40:07.862] [tensorio] [info] data_pipeline_stats={\"name\": \"/opt/ml/input/data/train\", \"epoch\": 0, \"duration\": 22, \"num_examples\": 1}\u001b[0m\n",
            "\u001b[31m[03/08/2019 00:40:07 INFO 140021904598848] processed a total of 3218 examples\u001b[0m\n",
            "\u001b[31m[03/08/2019 00:40:07 INFO 140021904598848] #progress_metric: host=algo-1, completed 100 % of epochs\u001b[0m\n",
            "\u001b[31m#metrics {\"Metrics\": {\"Max Batches Seen Between Resets\": {\"count\": 1, \"max\": 1, \"sum\": 1.0, \"min\": 1}, \"Number of Batches Since Last Reset\": {\"count\": 1, \"max\": 1, \"sum\": 1.0, \"min\": 1}, \"Number of Records Since Last Reset\": {\"count\": 1, \"max\": 3218, \"sum\": 3218.0, \"min\": 3218}, \"Total Batches Seen\": {\"count\": 1, \"max\": 2, \"sum\": 2.0, \"min\": 2}, \"Total Records Seen\": {\"count\": 1, \"max\": 6436, \"sum\": 6436.0, \"min\": 6436}, \"Max Records Seen Between Resets\": {\"count\": 1, \"max\": 3218, \"sum\": 3218.0, \"min\": 3218}, \"Reset Count\": {\"count\": 1, \"max\": 1, \"sum\": 1.0, \"min\": 1}}, \"EndTime\": 1552005607.917481, \"Dimensions\": {\"Host\": \"algo-1\", \"Meta\": \"training_data_iter\", \"Operation\": \"training\", \"Algorithm\": \"AWS/KMeansWebscale\", \"epoch\": 0}, \"StartTime\": 1552005607.862775}\n",
            "\u001b[0m\n",
            "\u001b[31m[03/08/2019 00:40:07 INFO 140021904598848] #throughput_metric: host=algo-1, train throughput=58678.6812973 records/second\u001b[0m\n",
            "\u001b[31m[03/08/2019 00:40:07 WARNING 140021904598848] wait_for_all_workers will not sync workers since the kv store is not running distributed\u001b[0m\n",
            "\u001b[31m[03/08/2019 00:40:07 INFO 140021904598848] shrinking 80 centers into 8\u001b[0m\n",
            "\u001b[31m[03/08/2019 00:40:07 INFO 140021904598848] local kmeans attempt #0. Current mean square distance 0.067297\u001b[0m\n",
            "\u001b[31m[03/08/2019 00:40:07 INFO 140021904598848] local kmeans attempt #1. Current mean square distance 0.067115\u001b[0m\n",
            "\u001b[31m[03/08/2019 00:40:08 INFO 140021904598848] local kmeans attempt #2. Current mean square distance 0.071168\u001b[0m\n",
            "\u001b[31m[03/08/2019 00:40:08 INFO 140021904598848] local kmeans attempt #3. Current mean square distance 0.070390\u001b[0m\n",
            "\u001b[31m[03/08/2019 00:40:08 INFO 140021904598848] local kmeans attempt #4. Current mean square distance 0.065784\u001b[0m\n",
            "\u001b[31m[03/08/2019 00:40:08 INFO 140021904598848] local kmeans attempt #5. Current mean square distance 0.078768\u001b[0m\n",
            "\u001b[31m[03/08/2019 00:40:08 INFO 140021904598848] local kmeans attempt #6. Current mean square distance 0.073432\u001b[0m\n",
            "\u001b[31m[03/08/2019 00:40:08 INFO 140021904598848] local kmeans attempt #7. Current mean square distance 0.072345\u001b[0m\n",
            "\u001b[31m[03/08/2019 00:40:08 INFO 140021904598848] local kmeans attempt #8. Current mean square distance 0.066644\u001b[0m\n",
            "\u001b[31m[03/08/2019 00:40:08 INFO 140021904598848] local kmeans attempt #9. Current mean square distance 0.072777\u001b[0m\n",
            "\u001b[31m[03/08/2019 00:40:08 INFO 140021904598848] finished shrinking process. Mean Square Distance = 0\u001b[0m\n",
            "\u001b[31m[03/08/2019 00:40:08 INFO 140021904598848] #quality_metric: host=algo-1, train msd <loss>=0.0657843798399\u001b[0m\n",
            "\u001b[31m[03/08/2019 00:40:08 INFO 140021904598848] compute all data-center distances: inner product took: 30.7196%, (0.017444 secs)\u001b[0m\n",
            "\u001b[31m[03/08/2019 00:40:08 INFO 140021904598848] compute all data-center distances: point norm took: 24.3742%, (0.013841 secs)\u001b[0m\n",
            "\u001b[31m[03/08/2019 00:40:08 INFO 140021904598848] batch data loading with context took: 11.3111%, (0.006423 secs)\u001b[0m\n",
            "\u001b[31m[03/08/2019 00:40:08 INFO 140021904598848] predict compute msd took: 10.7598%, (0.006110 secs)\u001b[0m\n",
            "\u001b[31m[03/08/2019 00:40:08 INFO 140021904598848] collect from kv store took: 5.3322%, (0.003028 secs)\u001b[0m\n",
            "\u001b[31m[03/08/2019 00:40:08 INFO 140021904598848] splitting centers key-value pair took: 5.1387%, (0.002918 secs)\u001b[0m\n",
            "\u001b[31m[03/08/2019 00:40:08 INFO 140021904598848] gradient: cluster center took: 4.2616%, (0.002420 secs)\u001b[0m\n",
            "\u001b[31m[03/08/2019 00:40:08 INFO 140021904598848] gradient: one_hot took: 3.9022%, (0.002216 secs)\u001b[0m\n",
            "\u001b[31m[03/08/2019 00:40:08 INFO 140021904598848] gradient: cluster size  took: 2.3260%, (0.001321 secs)\u001b[0m\n",
            "\u001b[31m[03/08/2019 00:40:08 INFO 140021904598848] update state and report convergance took: 1.0669%, (0.000606 secs)\u001b[0m\n",
            "\u001b[31m[03/08/2019 00:40:08 INFO 140021904598848] update set-up time took: 0.4383%, (0.000249 secs)\u001b[0m\n",
            "\u001b[31m[03/08/2019 00:40:08 INFO 140021904598848] compute all data-center distances: center norm took: 0.3363%, (0.000191 secs)\u001b[0m\n",
            "\u001b[31m[03/08/2019 00:40:08 INFO 140021904598848] predict minus dist took: 0.0332%, (0.000019 secs)\u001b[0m\n",
            "\u001b[31m[03/08/2019 00:40:08 INFO 140021904598848] TOTAL took: 0.0567851066589\u001b[0m\n",
            "\u001b[31m[03/08/2019 00:40:08 INFO 140021904598848] Number of GPUs being used: 0\u001b[0m\n",
            "\u001b[31m#metrics {\"Metrics\": {\"finalize.time\": {\"count\": 1, \"max\": 260.5741024017334, \"sum\": 260.5741024017334, \"min\": 260.5741024017334}, \"initialize.time\": {\"count\": 1, \"max\": 16.234159469604492, \"sum\": 16.234159469604492, \"min\": 16.234159469604492}, \"model.serialize.time\": {\"count\": 1, \"max\": 0.17309188842773438, \"sum\": 0.17309188842773438, \"min\": 0.17309188842773438}, \"update.time\": {\"count\": 1, \"max\": 54.51202392578125, \"sum\": 54.51202392578125, \"min\": 54.51202392578125}, \"epochs\": {\"count\": 1, \"max\": 1, \"sum\": 1.0, \"min\": 1}, \"state.serialize.time\": {\"count\": 1, \"max\": 1.2581348419189453, \"sum\": 1.2581348419189453, \"min\": 1.2581348419189453}, \"_shrink.time\": {\"count\": 1, \"max\": 259.1099739074707, \"sum\": 259.1099739074707, \"min\": 259.1099739074707}}, \"EndTime\": 1552005608.179941, \"Dimensions\": {\"Host\": \"algo-1\", \"Operation\": \"training\", \"Algorithm\": \"AWS/KMeansWebscale\"}, \"StartTime\": 1552005607.838748}\n",
            "\u001b[0m\n",
            "\u001b[31m[03/08/2019 00:40:08 INFO 140021904598848] Test data is not provided.\u001b[0m\n",
            "\u001b[31m[2019-03-08 00:40:08.180] [tensorio] [info] data_pipeline_stats={\"name\": \"/opt/ml/input/data/train\", \"epoch\": 1, \"duration\": 317, \"num_examples\": 1}\u001b[0m\n",
            "\u001b[31m[2019-03-08 00:40:08.180] [tensorio] [info] data_pipeline_stats={\"name\": \"/opt/ml/input/data/train\", \"duration\": 339, \"num_epochs\": 2, \"num_examples\": 2}\u001b[0m\n",
            "\u001b[31m#metrics {\"Metrics\": {\"totaltime\": {\"count\": 1, \"max\": 401.46708488464355, \"sum\": 401.46708488464355, \"min\": 401.46708488464355}, \"setuptime\": {\"count\": 1, \"max\": 12.835025787353516, \"sum\": 12.835025787353516, \"min\": 12.835025787353516}}, \"EndTime\": 1552005608.180324, \"Dimensions\": {\"Host\": \"algo-1\", \"Operation\": \"training\", \"Algorithm\": \"AWS/KMeansWebscale\"}, \"StartTime\": 1552005608.180065}\n",
            "\u001b[0m\n",
            "\n",
            "2019-03-08 00:40:18 Training - Training image download completed. Training in progress.\n",
            "2019-03-08 00:40:18 Uploading - Uploading generated training model\n",
            "2019-03-08 00:40:18 Completed - Training job completed\n",
            "Billable seconds: 26\n",
            "CPU times: user 362 ms, sys: 21.3 ms, total: 384 ms\n",
            "Wall time: 3min 11s\n"
          ],
          "name": "stdout"
        }
      ]
    },
    {
      "cell_type": "markdown",
      "metadata": {
        "id": "30Kp8g8iQJPv",
        "colab_type": "text"
      },
      "source": [
        "### Deploying K- means model\n"
      ]
    },
    {
      "cell_type": "code",
      "metadata": {
        "id": "_SYiQHTeQJPw",
        "colab_type": "code",
        "colab": {},
        "outputId": "6c579248-3067-4448-ad0a-72966ece81f8"
      },
      "source": [
        "%%time\n",
        "# deploy the model to create a predictor\n",
        "kmeans_predictor = kmeans.deploy(initial_instance_count=1, \n",
        "                                 instance_type='ml.t2.medium')"
      ],
      "execution_count": null,
      "outputs": [
        {
          "output_type": "stream",
          "text": [
            "INFO:sagemaker:Creating model with name: kmeans-2019-03-08-00-40-34-502\n",
            "INFO:sagemaker:Creating endpoint with name kmeans-2019-03-08-00-37-22-788\n"
          ],
          "name": "stderr"
        },
        {
          "output_type": "stream",
          "text": [
            "---------------------------------------------------------------------------------------!CPU times: user 436 ms, sys: 35.3 ms, total: 472 ms\n",
            "Wall time: 7min 20s\n"
          ],
          "name": "stdout"
        }
      ]
    },
    {
      "cell_type": "markdown",
      "metadata": {
        "id": "rlAiXnDsQJP3",
        "colab_type": "text"
      },
      "source": [
        "### Adding labels to model"
      ]
    },
    {
      "cell_type": "code",
      "metadata": {
        "id": "FBs_UF3zQJP4",
        "colab_type": "code",
        "colab": {}
      },
      "source": [
        "# get the predicted clusters for all the kmeans training data\n",
        "cluster_info=kmeans_predictor.predict(kmeans_train_data_np)"
      ],
      "execution_count": null,
      "outputs": []
    },
    {
      "cell_type": "code",
      "metadata": {
        "id": "7hzI1vn_QJQA",
        "colab_type": "code",
        "colab": {},
        "outputId": "476556af-cb90-4ad1-c618-36721b7a966e"
      },
      "source": [
        "# print cluster info for first data point\n",
        "data_idx = 0\n",
        "\n",
        "print('County is: ', counties_transformed.index[data_idx])\n",
        "print()\n",
        "print(cluster_info[data_idx])"
      ],
      "execution_count": null,
      "outputs": [
        {
          "output_type": "stream",
          "text": [
            "County is:  Alabama-Autauga\n",
            "\n",
            "label {\n",
            "  key: \"closest_cluster\"\n",
            "  value {\n",
            "    float32_tensor {\n",
            "      values: 3.0\n",
            "    }\n",
            "  }\n",
            "}\n",
            "label {\n",
            "  key: \"distance_to_cluster\"\n",
            "  value {\n",
            "    float32_tensor {\n",
            "      values: 0.27046188712120056\n",
            "    }\n",
            "  }\n",
            "}\n",
            "\n"
          ],
          "name": "stdout"
        }
      ]
    },
    {
      "cell_type": "markdown",
      "metadata": {
        "id": "aXKBWyypQJQE",
        "colab_type": "text"
      },
      "source": [
        "### Data Visualization"
      ]
    },
    {
      "cell_type": "code",
      "metadata": {
        "id": "q6ENsiCiQJQF",
        "colab_type": "code",
        "colab": {}
      },
      "source": [
        "# get all cluster labels\n",
        "cluster_labels = [c.label['closest_cluster'].float32_tensor.values[0] for c in cluster_info]"
      ],
      "execution_count": null,
      "outputs": []
    },
    {
      "cell_type": "code",
      "metadata": {
        "id": "KsPtLwvIQJQL",
        "colab_type": "code",
        "colab": {},
        "outputId": "aa79c0e4-3bb0-434b-943e-1e7e437ac70b"
      },
      "source": [
        "# count up the points in each cluster\n",
        "cluster_df = pd.DataFrame(cluster_labels)[0].value_counts()\n",
        "\n",
        "print(cluster_df)"
      ],
      "execution_count": null,
      "outputs": [
        {
          "output_type": "stream",
          "text": [
            "1.0    994\n",
            "5.0    595\n",
            "3.0    449\n",
            "0.0    390\n",
            "6.0    339\n",
            "4.0    218\n",
            "7.0    141\n",
            "2.0     92\n",
            "Name: 0, dtype: int64\n"
          ],
          "name": "stdout"
        }
      ]
    },
    {
      "cell_type": "code",
      "metadata": {
        "id": "5sLHg7R1QJQR",
        "colab_type": "code",
        "colab": {},
        "outputId": "a4e70ad9-063f-4754-f98e-dcac2047d6a0"
      },
      "source": [
        "# another method of visualizing the distribution\n",
        "# display a histogram of cluster counts\n",
        "ax =plt.subplots(figsize=(6,3))\n",
        "ax = plt.hist(cluster_labels, bins=8,  range=(-0.5, 7.5), color='blue', rwidth=0.5)\n",
        "\n",
        "title=\"Histogram of Cluster Counts\"\n",
        "plt.title(title, fontsize=12)\n",
        "plt.show()"
      ],
      "execution_count": null,
      "outputs": [
        {
          "output_type": "display_data",
          "data": {
            "image/png": "[encoded data removed]",
            "text/plain": [
              "<Figure size 432x216 with 1 Axes>"
            ]
          },
          "metadata": {
            "tags": []
          }
        }
      ]
    },
    {
      "cell_type": "markdown",
      "metadata": {
        "id": "DG0i5WgpQJQY",
        "colab_type": "text"
      },
      "source": [
        "Now, you may be wondering, what do each of these clusters tell us about these data points? To improve explainability, we need to access the underlying model to get the cluster centers. These centers will help describe which features characterize each cluster."
      ]
    },
    {
      "cell_type": "markdown",
      "metadata": {
        "id": "Iyy2JV3qQJQZ",
        "colab_type": "text"
      },
      "source": [
        "### Endpoint Removal "
      ]
    },
    {
      "cell_type": "code",
      "metadata": {
        "id": "QGmrzJL9QJQa",
        "colab_type": "code",
        "colab": {},
        "outputId": "a889e030-cd25-4b04-e54c-4eb357d8596e"
      },
      "source": [
        "# delete kmeans endpoint\n",
        "session.delete_endpoint(kmeans_predictor.endpoint)"
      ],
      "execution_count": null,
      "outputs": [
        {
          "output_type": "stream",
          "text": [
            "INFO:sagemaker:Deleting endpoint with name: kmeans-2019-03-08-00-37-22-788\n"
          ],
          "name": "stderr"
        }
      ]
    },
    {
      "cell_type": "code",
      "metadata": {
        "id": "n7aKuOcXQJQd",
        "colab_type": "code",
        "colab": {},
        "outputId": "e93c0aa7-f905-45fe-82d1-f10a06827fca"
      },
      "source": [
        "# download and unzip the kmeans model file\n",
        "kmeans_job_name = 'kmeans-2019-03-08-00-37-22-788'\n",
        "\n",
        "model_key = os.path.join(prefix, kmeans_job_name, 'output/model.tar.gz')\n",
        "\n",
        "# download the model file\n",
        "boto3.resource('s3').Bucket(bucket_name).download_file(model_key, 'model.tar.gz')\n",
        "os.system('tar -zxvf model.tar.gz')\n",
        "os.system('unzip model_algo-1')\n"
      ],
      "execution_count": null,
      "outputs": [
        {
          "output_type": "execute_result",
          "data": {
            "text/plain": [
              "2304"
            ]
          },
          "metadata": {
            "tags": []
          },
          "execution_count": 51
        }
      ]
    },
    {
      "cell_type": "code",
      "metadata": {
        "id": "2IDnLvz2QJQg",
        "colab_type": "code",
        "colab": {},
        "outputId": "bb02337e-8f55-416c-b2d6-d9cb2a2e865e"
      },
      "source": [
        "# get the trained kmeans params using mxnet\n",
        "kmeans_model_params = mx.ndarray.load('model_algo-1')\n",
        "\n",
        "print(kmeans_model_params)"
      ],
      "execution_count": null,
      "outputs": [
        {
          "output_type": "stream",
          "text": [
            "[\n",
            "[[ 3.68001163e-01  2.26354256e-01  7.88291916e-02  2.61262119e-01\n",
            "   9.61402357e-02 -5.05092032e-02  3.57557014e-02]\n",
            " [-7.32245147e-02  1.05659112e-01  1.13722928e-01 -6.33113831e-02\n",
            "  -3.95483039e-02  4.66217995e-02 -2.19286084e-02]\n",
            " [ 1.31537044e+00 -2.57377833e-01 -1.57875896e-01 -4.15273398e-01\n",
            "  -1.25370100e-01  1.16665870e-01  1.62481740e-01]\n",
            " [-1.62926733e-01  4.53134663e-02 -3.00800741e-01  7.25739002e-02\n",
            "  -4.14044000e-02  5.90644330e-02  8.24726187e-04]\n",
            " [ 3.09595257e-01 -1.57976970e-01 -1.62361398e-01 -1.85713798e-01\n",
            "   1.38460830e-01 -1.14379212e-01 -6.49842843e-02]\n",
            " [-2.69347250e-01  8.37490428e-03 -1.81501284e-02 -7.30615258e-02\n",
            "   4.57714126e-03 -8.09832960e-02 -1.25052175e-02]\n",
            " [-2.39941925e-01 -3.17158133e-01  1.06285624e-01  4.89501953e-02\n",
            "   4.87177409e-02 -6.73310785e-03  1.10704802e-01]\n",
            " [ 2.05574751e-01 -4.47796524e-01  8.54142755e-02  1.98281378e-01\n",
            "  -1.12922713e-01 -1.60498768e-02 -1.51252389e-01]]\n",
            "<NDArray 8x7 @cpu(0)>]\n"
          ],
          "name": "stdout"
        }
      ]
    },
    {
      "cell_type": "code",
      "metadata": {
        "id": "EQN7dkjvQJQj",
        "colab_type": "code",
        "colab": {},
        "outputId": "6ae474ed-0d81-4d1d-ffa5-9ab60575a1b5"
      },
      "source": [
        "# get all the centroids\n",
        "cluster_centroids=pd.DataFrame(kmeans_model_params[0].asnumpy())\n",
        "cluster_centroids.columns=counties_transformed.columns\n",
        "\n",
        "display(cluster_centroids)"
      ],
      "execution_count": null,
      "outputs": [
        {
          "output_type": "display_data",
          "data": {
            "text/html": [
              "<div>\n",
              "<style scoped>\n",
              "    .dataframe tbody tr th:only-of-type {\n",
              "        vertical-align: middle;\n",
              "    }\n",
              "\n",
              "    .dataframe tbody tr th {\n",
              "        vertical-align: top;\n",
              "    }\n",
              "\n",
              "    .dataframe thead th {\n",
              "        text-align: right;\n",
              "    }\n",
              "</style>\n",
              "<table border=\"1\" class=\"dataframe\">\n",
              "  <thead>\n",
              "    <tr style=\"text-align: right;\">\n",
              "      <th></th>\n",
              "      <th>c_1</th>\n",
              "      <th>c_2</th>\n",
              "      <th>c_3</th>\n",
              "      <th>c_4</th>\n",
              "      <th>c_5</th>\n",
              "      <th>c_6</th>\n",
              "      <th>c_7</th>\n",
              "    </tr>\n",
              "  </thead>\n",
              "  <tbody>\n",
              "    <tr>\n",
              "      <th>0</th>\n",
              "      <td>0.368001</td>\n",
              "      <td>0.226354</td>\n",
              "      <td>0.078829</td>\n",
              "      <td>0.261262</td>\n",
              "      <td>0.096140</td>\n",
              "      <td>-0.050509</td>\n",
              "      <td>0.035756</td>\n",
              "    </tr>\n",
              "    <tr>\n",
              "      <th>1</th>\n",
              "      <td>-0.073225</td>\n",
              "      <td>0.105659</td>\n",
              "      <td>0.113723</td>\n",
              "      <td>-0.063311</td>\n",
              "      <td>-0.039548</td>\n",
              "      <td>0.046622</td>\n",
              "      <td>-0.021929</td>\n",
              "    </tr>\n",
              "    <tr>\n",
              "      <th>2</th>\n",
              "      <td>1.315370</td>\n",
              "      <td>-0.257378</td>\n",
              "      <td>-0.157876</td>\n",
              "      <td>-0.415273</td>\n",
              "      <td>-0.125370</td>\n",
              "      <td>0.116666</td>\n",
              "      <td>0.162482</td>\n",
              "    </tr>\n",
              "    <tr>\n",
              "      <th>3</th>\n",
              "      <td>-0.162927</td>\n",
              "      <td>0.045313</td>\n",
              "      <td>-0.300801</td>\n",
              "      <td>0.072574</td>\n",
              "      <td>-0.041404</td>\n",
              "      <td>0.059064</td>\n",
              "      <td>0.000825</td>\n",
              "    </tr>\n",
              "    <tr>\n",
              "      <th>4</th>\n",
              "      <td>0.309595</td>\n",
              "      <td>-0.157977</td>\n",
              "      <td>-0.162361</td>\n",
              "      <td>-0.185714</td>\n",
              "      <td>0.138461</td>\n",
              "      <td>-0.114379</td>\n",
              "      <td>-0.064984</td>\n",
              "    </tr>\n",
              "    <tr>\n",
              "      <th>5</th>\n",
              "      <td>-0.269347</td>\n",
              "      <td>0.008375</td>\n",
              "      <td>-0.018150</td>\n",
              "      <td>-0.073062</td>\n",
              "      <td>0.004577</td>\n",
              "      <td>-0.080983</td>\n",
              "      <td>-0.012505</td>\n",
              "    </tr>\n",
              "    <tr>\n",
              "      <th>6</th>\n",
              "      <td>-0.239942</td>\n",
              "      <td>-0.317158</td>\n",
              "      <td>0.106286</td>\n",
              "      <td>0.048950</td>\n",
              "      <td>0.048718</td>\n",
              "      <td>-0.006733</td>\n",
              "      <td>0.110705</td>\n",
              "    </tr>\n",
              "    <tr>\n",
              "      <th>7</th>\n",
              "      <td>0.205575</td>\n",
              "      <td>-0.447797</td>\n",
              "      <td>0.085414</td>\n",
              "      <td>0.198281</td>\n",
              "      <td>-0.112923</td>\n",
              "      <td>-0.016050</td>\n",
              "      <td>-0.151252</td>\n",
              "    </tr>\n",
              "  </tbody>\n",
              "</table>\n",
              "</div>"
            ],
            "text/plain": [
              "        c_1       c_2       c_3       c_4       c_5       c_6       c_7\n",
              "0  0.368001  0.226354  0.078829  0.261262  0.096140 -0.050509  0.035756\n",
              "1 -0.073225  0.105659  0.113723 -0.063311 -0.039548  0.046622 -0.021929\n",
              "2  1.315370 -0.257378 -0.157876 -0.415273 -0.125370  0.116666  0.162482\n",
              "3 -0.162927  0.045313 -0.300801  0.072574 -0.041404  0.059064  0.000825\n",
              "4  0.309595 -0.157977 -0.162361 -0.185714  0.138461 -0.114379 -0.064984\n",
              "5 -0.269347  0.008375 -0.018150 -0.073062  0.004577 -0.080983 -0.012505\n",
              "6 -0.239942 -0.317158  0.106286  0.048950  0.048718 -0.006733  0.110705\n",
              "7  0.205575 -0.447797  0.085414  0.198281 -0.112923 -0.016050 -0.151252"
            ]
          },
          "metadata": {
            "tags": []
          }
        }
      ]
    },
    {
      "cell_type": "markdown",
      "metadata": {
        "id": "URuGQL6zQJQs",
        "colab_type": "text"
      },
      "source": [
        "### DATA VISUALIZATION - Using heatmat to plot centroids"
      ]
    },
    {
      "cell_type": "code",
      "metadata": {
        "id": "VfN4CJY0QJQt",
        "colab_type": "code",
        "colab": {},
        "outputId": "4def30d9-5aa6-4ad1-9f9e-e16e541e7f47"
      },
      "source": [
        "# generate a heatmap in component space, using the seaborn library\n",
        "plt.figure(figsize = (12,9))\n",
        "ax = sns.heatmap(cluster_centroids.T, cmap = 'YlGnBu')\n",
        "ax.set_xlabel(\"Cluster\")\n",
        "plt.yticks(fontsize = 16)\n",
        "plt.xticks(fontsize = 16)\n",
        "ax.set_title(\"Attribute Value by Centroid\")\n",
        "plt.show()"
      ],
      "execution_count": null,
      "outputs": [
        {
          "output_type": "display_data",
          "data": {
            "image/png": "[encoded data removed]",
            "text/plain": [
              "<Figure size 864x648 with 2 Axes>"
            ]
          },
          "metadata": {
            "tags": []
          }
        }
      ]
    },
    {
      "cell_type": "code",
      "metadata": {
        "id": "mb6jPy0ZQJQx",
        "colab_type": "code",
        "colab": {},
        "outputId": "ebe8ffc4-0ba5-4f7d-ff09-481796b8ad50"
      },
      "source": [
        "# what do each of these components mean again?\n",
        "# let's use the display function, from above\n",
        "component_num=4\n",
        "display_component(v, counties_scaled.columns.values, component_num=component_num)"
      ],
      "execution_count": null,
      "outputs": [
        {
          "output_type": "display_data",
          "data": {
            "image/png": "[encoded data removed]",
            "text/plain": [
              "<Figure size 720x432 with 1 Axes>"
            ]
          },
          "metadata": {
            "tags": []
          }
        }
      ]
    },
    {
      "cell_type": "markdown",
      "metadata": {
        "id": "XnAbdebMQJQ1",
        "colab_type": "text"
      },
      "source": [
        "### Observing Patterns\n",
        "\n",
        "Here I clustered labels back to each individual county to examined which counties are naturally grouped together."
      ]
    },
    {
      "cell_type": "code",
      "metadata": {
        "id": "AP8Uzay7QJQ2",
        "colab_type": "code",
        "colab": {},
        "outputId": "af2ccac7-d980-4c49-e49d-829b5e998290"
      },
      "source": [
        "# add a 'labels' column to the dataframe\n",
        "counties_transformed['labels']=list(map(int, cluster_labels))\n",
        "\n",
        "# sort by cluster label 0-6\n",
        "sorted_counties = counties_transformed.sort_values('labels', ascending=True)\n",
        "# view some pts in cluster 0\n",
        "sorted_counties.head(20)"
      ],
      "execution_count": null,
      "outputs": [
        {
          "output_type": "execute_result",
          "data": {
            "text/html": [
              "<div>\n",
              "<style scoped>\n",
              "    .dataframe tbody tr th:only-of-type {\n",
              "        vertical-align: middle;\n",
              "    }\n",
              "\n",
              "    .dataframe tbody tr th {\n",
              "        vertical-align: top;\n",
              "    }\n",
              "\n",
              "    .dataframe thead th {\n",
              "        text-align: right;\n",
              "    }\n",
              "</style>\n",
              "<table border=\"1\" class=\"dataframe\">\n",
              "  <thead>\n",
              "    <tr style=\"text-align: right;\">\n",
              "      <th></th>\n",
              "      <th>c_1</th>\n",
              "      <th>c_2</th>\n",
              "      <th>c_3</th>\n",
              "      <th>c_4</th>\n",
              "      <th>c_5</th>\n",
              "      <th>c_6</th>\n",
              "      <th>c_7</th>\n",
              "      <th>labels</th>\n",
              "    </tr>\n",
              "  </thead>\n",
              "  <tbody>\n",
              "    <tr>\n",
              "      <th>Georgia-Candler</th>\n",
              "      <td>0.363197</td>\n",
              "      <td>0.109423</td>\n",
              "      <td>0.204951</td>\n",
              "      <td>0.059516</td>\n",
              "      <td>0.067597</td>\n",
              "      <td>-0.019374</td>\n",
              "      <td>0.030013</td>\n",
              "      <td>0</td>\n",
              "    </tr>\n",
              "    <tr>\n",
              "      <th>Louisiana-Concordia</th>\n",
              "      <td>0.409779</td>\n",
              "      <td>0.204391</td>\n",
              "      <td>0.191335</td>\n",
              "      <td>0.268234</td>\n",
              "      <td>0.007950</td>\n",
              "      <td>-0.054527</td>\n",
              "      <td>0.181117</td>\n",
              "      <td>0</td>\n",
              "    </tr>\n",
              "    <tr>\n",
              "      <th>Virginia-Newport News city</th>\n",
              "      <td>0.261421</td>\n",
              "      <td>0.177800</td>\n",
              "      <td>-0.229566</td>\n",
              "      <td>0.321782</td>\n",
              "      <td>0.014855</td>\n",
              "      <td>-0.102143</td>\n",
              "      <td>-0.024013</td>\n",
              "      <td>0</td>\n",
              "    </tr>\n",
              "    <tr>\n",
              "      <th>Louisiana-De Soto</th>\n",
              "      <td>0.295931</td>\n",
              "      <td>0.348835</td>\n",
              "      <td>0.048717</td>\n",
              "      <td>0.164811</td>\n",
              "      <td>0.166941</td>\n",
              "      <td>0.010911</td>\n",
              "      <td>0.040519</td>\n",
              "      <td>0</td>\n",
              "    </tr>\n",
              "    <tr>\n",
              "      <th>Florida-Gadsden</th>\n",
              "      <td>0.662961</td>\n",
              "      <td>0.165212</td>\n",
              "      <td>0.012804</td>\n",
              "      <td>0.476595</td>\n",
              "      <td>0.042991</td>\n",
              "      <td>0.093047</td>\n",
              "      <td>0.007101</td>\n",
              "      <td>0</td>\n",
              "    </tr>\n",
              "    <tr>\n",
              "      <th>Virginia-Norfolk city</th>\n",
              "      <td>0.345661</td>\n",
              "      <td>0.123631</td>\n",
              "      <td>-0.143410</td>\n",
              "      <td>0.363603</td>\n",
              "      <td>-0.007470</td>\n",
              "      <td>-0.083678</td>\n",
              "      <td>-0.005115</td>\n",
              "      <td>0</td>\n",
              "    </tr>\n",
              "    <tr>\n",
              "      <th>Louisiana-East Baton Rouge</th>\n",
              "      <td>0.242962</td>\n",
              "      <td>0.229884</td>\n",
              "      <td>-0.259422</td>\n",
              "      <td>0.379246</td>\n",
              "      <td>0.018616</td>\n",
              "      <td>-0.107516</td>\n",
              "      <td>0.071976</td>\n",
              "      <td>0</td>\n",
              "    </tr>\n",
              "    <tr>\n",
              "      <th>Virginia-Petersburg city</th>\n",
              "      <td>0.792302</td>\n",
              "      <td>0.426670</td>\n",
              "      <td>-0.051610</td>\n",
              "      <td>0.611594</td>\n",
              "      <td>0.033392</td>\n",
              "      <td>-0.232590</td>\n",
              "      <td>0.001919</td>\n",
              "      <td>0</td>\n",
              "    </tr>\n",
              "    <tr>\n",
              "      <th>Louisiana-East Carroll</th>\n",
              "      <td>0.933136</td>\n",
              "      <td>0.293730</td>\n",
              "      <td>0.356297</td>\n",
              "      <td>0.540606</td>\n",
              "      <td>-0.054206</td>\n",
              "      <td>-0.278123</td>\n",
              "      <td>0.160721</td>\n",
              "      <td>0</td>\n",
              "    </tr>\n",
              "    <tr>\n",
              "      <th>Louisiana-East Feliciana</th>\n",
              "      <td>0.286842</td>\n",
              "      <td>0.201158</td>\n",
              "      <td>0.002600</td>\n",
              "      <td>0.365350</td>\n",
              "      <td>0.140875</td>\n",
              "      <td>0.131723</td>\n",
              "      <td>0.048354</td>\n",
              "      <td>0</td>\n",
              "    </tr>\n",
              "    <tr>\n",
              "      <th>Virginia-Portsmouth city</th>\n",
              "      <td>0.400933</td>\n",
              "      <td>0.202716</td>\n",
              "      <td>-0.105670</td>\n",
              "      <td>0.452546</td>\n",
              "      <td>0.072539</td>\n",
              "      <td>-0.063671</td>\n",
              "      <td>0.036404</td>\n",
              "      <td>0</td>\n",
              "    </tr>\n",
              "    <tr>\n",
              "      <th>Louisiana-Evangeline</th>\n",
              "      <td>0.232242</td>\n",
              "      <td>0.243974</td>\n",
              "      <td>0.159740</td>\n",
              "      <td>0.076092</td>\n",
              "      <td>0.137570</td>\n",
              "      <td>0.109930</td>\n",
              "      <td>0.080670</td>\n",
              "      <td>0</td>\n",
              "    </tr>\n",
              "    <tr>\n",
              "      <th>Louisiana-Franklin</th>\n",
              "      <td>0.303057</td>\n",
              "      <td>0.121336</td>\n",
              "      <td>0.236197</td>\n",
              "      <td>0.172664</td>\n",
              "      <td>0.046740</td>\n",
              "      <td>-0.030970</td>\n",
              "      <td>0.258763</td>\n",
              "      <td>0</td>\n",
              "    </tr>\n",
              "    <tr>\n",
              "      <th>Virginia-Richmond city</th>\n",
              "      <td>0.407804</td>\n",
              "      <td>0.227938</td>\n",
              "      <td>-0.214292</td>\n",
              "      <td>0.420849</td>\n",
              "      <td>-0.057985</td>\n",
              "      <td>-0.131112</td>\n",
              "      <td>0.041372</td>\n",
              "      <td>0</td>\n",
              "    </tr>\n",
              "    <tr>\n",
              "      <th>Louisiana-Iberia</th>\n",
              "      <td>0.169558</td>\n",
              "      <td>0.269125</td>\n",
              "      <td>-0.033261</td>\n",
              "      <td>0.117168</td>\n",
              "      <td>0.123274</td>\n",
              "      <td>-0.094210</td>\n",
              "      <td>0.044880</td>\n",
              "      <td>0</td>\n",
              "    </tr>\n",
              "    <tr>\n",
              "      <th>Louisiana-Iberville</th>\n",
              "      <td>0.289200</td>\n",
              "      <td>0.275354</td>\n",
              "      <td>-0.043679</td>\n",
              "      <td>0.319326</td>\n",
              "      <td>0.176963</td>\n",
              "      <td>-0.114928</td>\n",
              "      <td>-0.003577</td>\n",
              "      <td>0</td>\n",
              "    </tr>\n",
              "    <tr>\n",
              "      <th>Virginia-Roanoke city</th>\n",
              "      <td>0.183414</td>\n",
              "      <td>0.235204</td>\n",
              "      <td>-0.076873</td>\n",
              "      <td>0.146362</td>\n",
              "      <td>-0.108143</td>\n",
              "      <td>-0.183366</td>\n",
              "      <td>-0.000494</td>\n",
              "      <td>0</td>\n",
              "    </tr>\n",
              "    <tr>\n",
              "      <th>Louisiana-Jackson</th>\n",
              "      <td>0.225916</td>\n",
              "      <td>0.198804</td>\n",
              "      <td>0.142211</td>\n",
              "      <td>0.151452</td>\n",
              "      <td>0.143448</td>\n",
              "      <td>0.102662</td>\n",
              "      <td>0.047744</td>\n",
              "      <td>0</td>\n",
              "    </tr>\n",
              "    <tr>\n",
              "      <th>North Carolina-Perquimans</th>\n",
              "      <td>0.127545</td>\n",
              "      <td>-0.034301</td>\n",
              "      <td>0.110735</td>\n",
              "      <td>0.231734</td>\n",
              "      <td>0.161234</td>\n",
              "      <td>0.260116</td>\n",
              "      <td>0.119911</td>\n",
              "      <td>0</td>\n",
              "    </tr>\n",
              "    <tr>\n",
              "      <th>Mississippi-Jasper</th>\n",
              "      <td>0.384125</td>\n",
              "      <td>0.423346</td>\n",
              "      <td>0.102244</td>\n",
              "      <td>0.286187</td>\n",
              "      <td>0.282340</td>\n",
              "      <td>-0.135209</td>\n",
              "      <td>0.000461</td>\n",
              "      <td>0</td>\n",
              "    </tr>\n",
              "  </tbody>\n",
              "</table>\n",
              "</div>"
            ],
            "text/plain": [
              "                                 c_1       c_2       c_3       c_4       c_5  \\\n",
              "Georgia-Candler             0.363197  0.109423  0.204951  0.059516  0.067597   \n",
              "Louisiana-Concordia         0.409779  0.204391  0.191335  0.268234  0.007950   \n",
              "Virginia-Newport News city  0.261421  0.177800 -0.229566  0.321782  0.014855   \n",
              "Louisiana-De Soto           0.295931  0.348835  0.048717  0.164811  0.166941   \n",
              "Florida-Gadsden             0.662961  0.165212  0.012804  0.476595  0.042991   \n",
              "Virginia-Norfolk city       0.345661  0.123631 -0.143410  0.363603 -0.007470   \n",
              "Louisiana-East Baton Rouge  0.242962  0.229884 -0.259422  0.379246  0.018616   \n",
              "Virginia-Petersburg city    0.792302  0.426670 -0.051610  0.611594  0.033392   \n",
              "Louisiana-East Carroll      0.933136  0.293730  0.356297  0.540606 -0.054206   \n",
              "Louisiana-East Feliciana    0.286842  0.201158  0.002600  0.365350  0.140875   \n",
              "Virginia-Portsmouth city    0.400933  0.202716 -0.105670  0.452546  0.072539   \n",
              "Louisiana-Evangeline        0.232242  0.243974  0.159740  0.076092  0.137570   \n",
              "Louisiana-Franklin          0.303057  0.121336  0.236197  0.172664  0.046740   \n",
              "Virginia-Richmond city      0.407804  0.227938 -0.214292  0.420849 -0.057985   \n",
              "Louisiana-Iberia            0.169558  0.269125 -0.033261  0.117168  0.123274   \n",
              "Louisiana-Iberville         0.289200  0.275354 -0.043679  0.319326  0.176963   \n",
              "Virginia-Roanoke city       0.183414  0.235204 -0.076873  0.146362 -0.108143   \n",
              "Louisiana-Jackson           0.225916  0.198804  0.142211  0.151452  0.143448   \n",
              "North Carolina-Perquimans   0.127545 -0.034301  0.110735  0.231734  0.161234   \n",
              "Mississippi-Jasper          0.384125  0.423346  0.102244  0.286187  0.282340   \n",
              "\n",
              "                                 c_6       c_7  labels  \n",
              "Georgia-Candler            -0.019374  0.030013       0  \n",
              "Louisiana-Concordia        -0.054527  0.181117       0  \n",
              "Virginia-Newport News city -0.102143 -0.024013       0  \n",
              "Louisiana-De Soto           0.010911  0.040519       0  \n",
              "Florida-Gadsden             0.093047  0.007101       0  \n",
              "Virginia-Norfolk city      -0.083678 -0.005115       0  \n",
              "Louisiana-East Baton Rouge -0.107516  0.071976       0  \n",
              "Virginia-Petersburg city   -0.232590  0.001919       0  \n",
              "Louisiana-East Carroll     -0.278123  0.160721       0  \n",
              "Louisiana-East Feliciana    0.131723  0.048354       0  \n",
              "Virginia-Portsmouth city   -0.063671  0.036404       0  \n",
              "Louisiana-Evangeline        0.109930  0.080670       0  \n",
              "Louisiana-Franklin         -0.030970  0.258763       0  \n",
              "Virginia-Richmond city     -0.131112  0.041372       0  \n",
              "Louisiana-Iberia           -0.094210  0.044880       0  \n",
              "Louisiana-Iberville        -0.114928 -0.003577       0  \n",
              "Virginia-Roanoke city      -0.183366 -0.000494       0  \n",
              "Louisiana-Jackson           0.102662  0.047744       0  \n",
              "North Carolina-Perquimans   0.260116  0.119911       0  \n",
              "Mississippi-Jasper         -0.135209  0.000461       0  "
            ]
          },
          "metadata": {
            "tags": []
          },
          "execution_count": 57
        }
      ]
    }
  ]
}
